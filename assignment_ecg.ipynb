{
  "cells": [
    {
      "cell_type": "markdown",
      "metadata": {
        "id": "7SXpaKwwGe5x"
      },
      "source": [
        "# TM10007 Group 4 -- ECG Data"
      ]
    },
    {
      "cell_type": "markdown",
      "source": [
        "Hallo tekst"
      ],
      "metadata": {
        "id": "u0jPpiE5pyEP"
      }
    },
    {
      "cell_type": "code",
      "source": [
        "# Loading packages\n",
        "import zipfile\n",
        "import os\n",
        "import pandas as pd\n",
        "import sklearn as sk\n",
        "import numpy as np\n"
      ],
      "metadata": {
        "id": "f-5Aw7sQpsDL"
      },
      "execution_count": 4,
      "outputs": []
    },
    {
      "cell_type": "markdown",
      "metadata": {
        "id": "5EG78VSHfhNi"
      },
      "source": [
        "## 1. Data loading, cleaning and visualization\n",
        "\n",
        "Below we load the ECG data, convert it to a dataframe an clean the data.First we are going to start with loading the CS file into a dataframe"
      ]
    },
    {
      "cell_type": "code",
      "execution_count": null,
      "metadata": {
        "id": "CiDn2Sk-VWqE",
        "outputId": "77e3c87d-4ec9-4756-b8ce-2f1254fe5e8b",
        "colab": {
          "base_uri": "https://localhost:8080/"
        }
      },
      "outputs": [
        {
          "output_type": "stream",
          "name": "stdout",
          "text": [
            "Cloning into 'TM10007_ML_ECG_group4'...\n",
            "remote: Enumerating objects: 147, done.\u001b[K\n",
            "remote: Counting objects: 100% (65/65), done.\u001b[K\n",
            "remote: Compressing objects: 100% (43/43), done.\u001b[K\n",
            "remote: Total 147 (delta 38), reused 22 (delta 22), pack-reused 82\u001b[K\n",
            "Receiving objects: 100% (147/147), 67.95 MiB | 30.83 MiB/s, done.\n",
            "Resolving deltas: 100% (62/62), done.\n",
            "The number of samples: 827\n",
            "The number of columns: 9001\n",
            "            0_0         0_1         0_2        0_3        0_4         0_5  \\\n",
            "0     47.685046   48.416904   37.371002  61.604757  58.732738  213.067966   \n",
            "1    152.726718  297.353726  111.168880  25.419423  14.636085   24.609688   \n",
            "2      1.601260    3.882169   22.978997  21.673040   8.919484   18.329286   \n",
            "3      1.388947    3.052483    3.084103   4.627886  10.016196   15.020347   \n",
            "4      3.625561    3.728466    6.205367  17.722897   5.699401    9.024836   \n",
            "..          ...         ...         ...        ...        ...         ...   \n",
            "822   14.673713   13.879148   10.000083   8.337630   3.557302    8.910661   \n",
            "823    3.167367   13.771749    0.705951   0.349087   9.596407   14.721906   \n",
            "824    0.439357    8.700374   20.628752  19.379063  23.176646   25.308323   \n",
            "825    0.235515    4.074581    9.381945   9.621589  16.106126    8.376319   \n",
            "826    0.301328    2.012000    9.122957   7.332689   7.862709   10.139178   \n",
            "\n",
            "            0_6         0_7         0_8         0_9  ...    11_741    11_742  \\\n",
            "0    120.890451   40.100639   19.106303    6.043738  ...  0.078753  0.379885   \n",
            "1     49.533842  253.651571  483.852043  167.617409  ...  0.804160  0.809705   \n",
            "2     27.710604   23.350084   37.896254    8.331180  ...  0.156080  0.102070   \n",
            "3    139.823127   20.149108   10.393109    9.241921  ...  0.238274  0.096733   \n",
            "4     15.782812   33.336480   55.257804   19.139128  ...  0.056914  0.059116   \n",
            "..          ...         ...         ...         ...  ...       ...       ...   \n",
            "822   36.647388    5.127375    4.974610    3.649282  ...  0.024548  0.056174   \n",
            "823   48.008495  100.760159   33.764106   19.399167  ...  0.808183  0.728553   \n",
            "824  124.150929   37.162548   13.807592   14.244157  ...  0.103234  0.113550   \n",
            "825   42.678977   40.056677   17.450689    8.489811  ...  0.150481  0.073634   \n",
            "826    8.211888   98.975305    7.404045   12.253549  ...  0.189871  0.085630   \n",
            "\n",
            "       11_743    11_744    11_745    11_746    11_747    11_748    11_749  \\\n",
            "0    0.182930  0.231552  0.222432  0.154919  0.158616  0.269249  0.112248   \n",
            "1    0.830032  0.774368  0.798178  0.853519  0.827946  0.859936  0.742673   \n",
            "2    0.168276  0.120385  0.064254  0.077670  0.059857  0.098506  0.098288   \n",
            "3    0.030739  0.170214  0.052079  0.179360  0.226222  0.092000  0.192559   \n",
            "4    0.050098  0.152588  0.129712  0.047342  0.058446  0.141610  0.129477   \n",
            "..        ...       ...       ...       ...       ...       ...       ...   \n",
            "822  0.029438  0.169014  0.111257  0.058975  0.112644  0.155580  0.061931   \n",
            "823  0.743050  0.735316  0.724321  0.671816  0.714386  0.771741  0.757218   \n",
            "824  0.102557  0.131152  0.057736  0.061432  0.068036  0.159615  0.077114   \n",
            "825  0.104637  0.164451  0.055838  0.060012  0.057874  0.060548  0.116350   \n",
            "826  0.161162  0.141019  0.133023  0.073290  0.228413  0.114943  0.223285   \n",
            "\n",
            "     label  \n",
            "0        0  \n",
            "1        1  \n",
            "2        0  \n",
            "3        0  \n",
            "4        0  \n",
            "..     ...  \n",
            "822      0  \n",
            "823      0  \n",
            "824      0  \n",
            "825      0  \n",
            "826      1  \n",
            "\n",
            "[827 rows x 9001 columns]\n"
          ]
        }
      ],
      "source": [
        "# Load CSV file into dataframe\n",
        "!git clone https://github.com/JosefienBerg/TM10007_ML_ECG_group4.git\n",
        "\n",
        "with zipfile.ZipFile('/content/TM10007_ML_ECG_group4/ecg/ecg_data.zip', 'r') as zip_ref:\n",
        "    zip_ref.extractall('/content/TM10007_ML_ECG_group4/ecg')\n",
        "\n",
        "data = pd.read_csv('/content/TM10007_ML_ECG_group4/ecg/ecg_data.csv', index_col=0)\n",
        "\n",
        "print(f'The number of samples: {len(data.index)}')\n",
        "print(f'The number of columns: {len(data.columns)}')\n",
        "print(data)"
      ]
    },
    {
      "cell_type": "markdown",
      "source": [
        "Now we are going to test if there is data missing in our dataset. We conclude that NaNs are missing data and if an entire row or column has zero's, this is also seen as missing data."
      ],
      "metadata": {
        "id": "Fzxx78XNgSnF"
      }
    },
    {
      "cell_type": "code",
      "source": [
        "# Test dataset for missing data\n",
        "df.isnull()\n"
      ],
      "metadata": {
        "id": "nJ4-hqtyf0DU"
      },
      "execution_count": null,
      "outputs": []
    },
    {
      "cell_type": "code",
      "source": [
        "# Test dataset for missing rows/columns"
      ],
      "metadata": {
        "id": "nZLKTGMpmxOc"
      },
      "execution_count": null,
      "outputs": []
    },
    {
      "cell_type": "code",
      "source": [
        "# Cleaning dataset"
      ],
      "metadata": {
        "id": "T-mrfMKCm1iX"
      },
      "execution_count": null,
      "outputs": []
    },
    {
      "cell_type": "markdown",
      "source": [
        "Visualisatie van de data"
      ],
      "metadata": {
        "id": "OaN6z_VynlYI"
      }
    },
    {
      "cell_type": "code",
      "source": [
        "# Code voor ziek en niet ziek"
      ],
      "metadata": {
        "id": "6uzs9dYjnrHt"
      },
      "execution_count": null,
      "outputs": []
    },
    {
      "cell_type": "code",
      "source": [
        "# Code voor visualisatie"
      ],
      "metadata": {
        "id": "r6vBeZo2nnlX"
      },
      "execution_count": null,
      "outputs": []
    },
    {
      "cell_type": "markdown",
      "source": [
        "## 2. Creating the experimental setup\n",
        "Below we split the dataset in test data and training data. Then we further split the trainingdata in order to make different training and validation sets for our different classifiers"
      ],
      "metadata": {
        "id": "hbyr7EH1fUE3"
      }
    },
    {
      "cell_type": "code",
      "source": [
        "# Initial split\n",
        "\n",
        "# packages \n",
        "from sklearn.model_selection import train_test_split\n",
        "from sklearn.model_selection import KFold\n",
        "\n",
        "# Defining amount of diseased('1') patients\n",
        "print(f'Amount of diseased patients: {sum(data[\"label\"])}')\n",
        "\n",
        "#splitting the whole data set in a train and test set\n",
        "def train_test_split(x, y, train_size = 0.8, random_state = 0):\n",
        "  return x_train, x_test, y_train, y_test \n",
        "\n",
        "col = \"label\"\n",
        "x_train, x_test, y_train, y_test = train_test_split(data.loc[:, data.columns !=col], data.loc[:, \"label\"].values)\n",
        "print(x_train)\n",
        "\n",
        "#splitting the train set in a train and validation set\n",
        "kf = KFold(n_splits=2)\n",
        "kf.get_n_splits(x_train)"
      ],
      "metadata": {
        "id": "nIf-5Y4zm3ND",
        "outputId": "42eceec6-77e5-4ecd-d849-f33cd9cca81e",
        "colab": {
          "base_uri": "https://localhost:8080/"
        }
      },
      "execution_count": 55,
      "outputs": [
        {
          "output_type": "stream",
          "name": "stdout",
          "text": [
            "Amount of diseased patients: 146\n",
            "             0_0          0_1         0_2         0_3         0_4         0_5  \\\n",
            "593     8.358655    20.946035    9.784189   17.274924   11.670394   35.207370   \n",
            "780  2244.050479  1067.521450  184.271101   71.748932   47.949082   27.896622   \n",
            "71   1072.494116    82.493852   46.458215   87.448854  108.303842  110.689626   \n",
            "49      0.835017     6.575501   12.352972   35.881337   20.712190   49.123780   \n",
            "267     3.658617     4.205258    6.057089    5.468345    9.699800    9.456077   \n",
            "..           ...          ...         ...         ...         ...         ...   \n",
            "763    34.147492    50.031748   81.418305   91.320333   63.807030   62.255815   \n",
            "192     5.856814     1.322058    4.907688    3.574215    3.317540    7.837192   \n",
            "629    15.178521     0.769534   27.474748   22.930420   25.603870   26.328295   \n",
            "559  2920.585238   485.861964   82.289741  124.215917   16.849693   52.066079   \n",
            "684   372.355214    43.892484   68.014305   52.821319   54.022098   24.141568   \n",
            "\n",
            "           0_6         0_7        0_8        0_9  ...    11_740    11_741  \\\n",
            "593  80.446113   36.204789  10.360566   9.475575  ...  0.160780  0.071363   \n",
            "780  23.214930   24.722041  36.941295  17.491039  ...  0.486008  0.416314   \n",
            "71   64.892998   64.876369  53.307615  49.530203  ...  0.208585  0.083196   \n",
            "49   82.917623   58.757996   8.723075  11.815731  ...  0.086927  0.139918   \n",
            "267  59.615478    7.589534   8.290047   5.690543  ...  0.190578  0.074899   \n",
            "..         ...         ...        ...        ...  ...       ...       ...   \n",
            "763  48.873840   42.619154  53.946560  25.533055  ...  0.126525  0.233981   \n",
            "192  18.698402  427.113849  16.202003  23.821725  ...  0.126994  0.172944   \n",
            "629   5.332596    4.026124  32.922172  40.647743  ...  0.666720  0.643547   \n",
            "559  11.875205   55.925453  30.527755  10.893920  ...  0.241784  0.117467   \n",
            "684  32.630470   37.321452  23.243950  12.432414  ...  0.714678  0.654316   \n",
            "\n",
            "       11_742    11_743    11_744    11_745    11_746    11_747    11_748  \\\n",
            "593  0.106118  0.181534  0.182841  0.186981  0.072949  0.201616  0.093161   \n",
            "780  0.424816  0.480354  0.375614  0.334241  0.352564  0.424363  0.552823   \n",
            "71   0.168840  0.190004  0.192120  0.224800  0.174724  0.287928  0.220868   \n",
            "49   0.074866  0.211045  0.141122  0.117961  0.165584  0.195522  0.194389   \n",
            "267  0.062743  0.157751  0.151638  0.115565  0.110373  0.077148  0.063103   \n",
            "..        ...       ...       ...       ...       ...       ...       ...   \n",
            "763  0.124837  0.097386  0.099451  0.150217  0.148279  0.014260  0.080768   \n",
            "192  0.238619  0.043772  0.153070  0.133455  0.285745  0.061651  0.079124   \n",
            "629  0.558958  0.528746  0.669019  0.633855  0.542674  0.646325  0.645241   \n",
            "559  0.289397  0.128979  0.225011  0.293166  0.262227  0.209920  0.254522   \n",
            "684  0.632995  0.596525  0.544298  0.686030  0.545682  0.560156  0.667340   \n",
            "\n",
            "       11_749  \n",
            "593  0.051656  \n",
            "780  0.482239  \n",
            "71   0.250343  \n",
            "49   0.064589  \n",
            "267  0.028845  \n",
            "..        ...  \n",
            "763  0.078888  \n",
            "192  0.336837  \n",
            "629  0.669634  \n",
            "559  0.207674  \n",
            "684  0.619255  \n",
            "\n",
            "[661 rows x 9000 columns]\n"
          ]
        },
        {
          "output_type": "execute_result",
          "data": {
            "text/plain": [
              "2"
            ]
          },
          "metadata": {},
          "execution_count": 55
        }
      ]
    },
    {
      "cell_type": "markdown",
      "source": [
        "hallo text"
      ],
      "metadata": {
        "id": "cbjIkU58n9jL"
      }
    },
    {
      "cell_type": "code",
      "source": [
        "# Cross-validatie"
      ],
      "metadata": {
        "id": "crs2LP3lm5pf"
      },
      "execution_count": null,
      "outputs": []
    },
    {
      "cell_type": "markdown",
      "source": [
        "hallo text"
      ],
      "metadata": {
        "id": "1Lhn-8RLn-xp"
      }
    },
    {
      "cell_type": "code",
      "source": [
        "# Extra blokje"
      ],
      "metadata": {
        "id": "70FYCJPem8Sz"
      },
      "execution_count": null,
      "outputs": []
    },
    {
      "cell_type": "markdown",
      "source": [
        "## 3. Feature scaling"
      ],
      "metadata": {
        "id": "WIucopYVnYBI"
      }
    },
    {
      "cell_type": "markdown",
      "source": [
        "Hallo tekst"
      ],
      "metadata": {
        "id": "qYnQ0Ml9oA1G"
      }
    },
    {
      "cell_type": "code",
      "source": [
        "# Blokje 1"
      ],
      "metadata": {
        "id": "7lPiglbIne_l"
      },
      "execution_count": null,
      "outputs": []
    },
    {
      "cell_type": "markdown",
      "source": [
        "Hallo tekst"
      ],
      "metadata": {
        "id": "J9t4kREtoB0a"
      }
    },
    {
      "cell_type": "code",
      "source": [
        "# Blokje 2"
      ],
      "metadata": {
        "id": "nVCz7FgOnglf"
      },
      "execution_count": null,
      "outputs": []
    },
    {
      "cell_type": "markdown",
      "source": [
        "Hallo tekst"
      ],
      "metadata": {
        "id": "Sw0PgQvOoC2L"
      }
    },
    {
      "cell_type": "code",
      "source": [
        "# Blokje 3"
      ],
      "metadata": {
        "id": "eL6ue3Qwnh62"
      },
      "execution_count": null,
      "outputs": []
    },
    {
      "cell_type": "markdown",
      "source": [
        "## 4. Feature selection"
      ],
      "metadata": {
        "id": "UXm9Ps4sm-v-"
      }
    },
    {
      "cell_type": "markdown",
      "source": [
        "Hallo tekst"
      ],
      "metadata": {
        "id": "jWntzXM0oGlg"
      }
    },
    {
      "cell_type": "code",
      "source": [
        "# Blokje 1"
      ],
      "metadata": {
        "id": "rB8WQrT8nBlD"
      },
      "execution_count": null,
      "outputs": []
    },
    {
      "cell_type": "markdown",
      "source": [
        "Hallo tekst"
      ],
      "metadata": {
        "id": "7Fo3B9GtoHfW"
      }
    },
    {
      "cell_type": "code",
      "source": [
        "# Blokje 2"
      ],
      "metadata": {
        "id": "YS-1NeZunEfi"
      },
      "execution_count": null,
      "outputs": []
    },
    {
      "cell_type": "markdown",
      "source": [
        "Hallo tekst"
      ],
      "metadata": {
        "id": "DjUe1_wAoJpk"
      }
    },
    {
      "cell_type": "code",
      "source": [
        "# Blokje 3"
      ],
      "metadata": {
        "id": "a3_dsVkEoKto"
      },
      "execution_count": null,
      "outputs": []
    }
  ],
  "metadata": {
    "colab": {
      "name": "assignment.ipynb",
      "provenance": []
    },
    "kernelspec": {
      "display_name": "Python 3",
      "language": "python",
      "name": "python3"
    },
    "language_info": {
      "codemirror_mode": {
        "name": "ipython",
        "version": 3
      },
      "file_extension": ".py",
      "mimetype": "text/x-python",
      "name": "python",
      "nbconvert_exporter": "python",
      "pygments_lexer": "ipython3",
      "version": "3.8.5"
    }
  },
  "nbformat": 4,
  "nbformat_minor": 0
}
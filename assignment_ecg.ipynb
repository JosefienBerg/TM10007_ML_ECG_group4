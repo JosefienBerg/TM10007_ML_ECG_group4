{
  "cells": [
    {
      "cell_type": "markdown",
      "metadata": {
        "id": "7SXpaKwwGe5x"
      },
      "source": [
        "# TM10007 Group 4 -- ECG Data\n",
        "Lara de Bats (5022037), Josefien van den Berg (4663381), Merel Goossens (4856902), Amber Liqui Lung (4464168)"
      ]
    },
    {
      "cell_type": "markdown",
      "source": [
        "In this assignment we wil test certain classifiers in order to create a classifier model to distinguish between normal and abnormal ECG's. The code is divided in different segments that are explained in our report."
      ],
      "metadata": {
        "id": "u0jPpiE5pyEP"
      }
    },
    {
      "cell_type": "code",
      "source": [
        "# Loading packages\n",
        "import zipfile\n",
        "import os\n",
        "import pandas as pd\n",
        "import sklearn as sk\n",
        "import numpy as np\n",
        "import seaborn\n",
        "import matplotlib.pyplot as plt\n",
        "import pylab as pl\n",
        "import plotly.express as px\n",
        "import plotly.graph_objects as go\n",
        "\n",
        "from sklearn.impute import SimpleImputer\n",
        "from sklearn.decomposition import PCA\n",
        "from sklearn.feature_selection import SelectKBest, f_classif\n",
        "from sklearn.model_selection import KFold, GridSearchCV, RandomizedSearchCV, train_test_split, cross_val_score\n",
        "from sklearn.preprocessing import StandardScaler, MinMaxScaler, RobustScaler\n",
        "from sklearn.naive_bayes import GaussianNB\n",
        "from sklearn.tree import DecisionTreeClassifier\n",
        "from sklearn.neighbors import KNeighborsClassifier\n",
        "from sklearn.ensemble import AdaBoostClassifier, RandomForestClassifier\n",
        "from sklearn.svm import SVC, LinearSVC\n",
        "from sklearn.neural_network import MLPClassifier\n",
        "from sklearn.metrics import f1_score, average_precision_score, make_scorer\n",
        "# from sklearn.pipeline import Pipeline\n",
        "from imblearn.pipeline import Pipeline\n",
        "from sklearn import set_config\n",
        "\n",
        "from imblearn.over_sampling import SMOTE\n",
        "\n",
        "from IPython.display import display\n",
        "\n",
        "pd.set_option('display.max_rows', 30)"
      ],
      "metadata": {
        "id": "f-5Aw7sQpsDL"
      },
      "execution_count": null,
      "outputs": []
    },
    {
      "cell_type": "markdown",
      "metadata": {
        "id": "5EG78VSHfhNi"
      },
      "source": [
        "## 1. Data loading, initial split, exploring and cleaning\n",
        "\n",
        "Below we load the ECG data, convert it to a dataframe an clean the data.First we are going to start with loading the CS file into a dataframe. Then we are going to split the dataset into test data and training data."
      ]
    },
    {
      "cell_type": "code",
      "execution_count": null,
      "metadata": {
        "id": "CiDn2Sk-VWqE",
        "outputId": "e2bb0e36-b9a8-4311-df38-40f352258961",
        "colab": {
          "base_uri": "https://localhost:8080/"
        },
        "collapsed": true
      },
      "outputs": [
        {
          "output_type": "stream",
          "name": "stdout",
          "text": [
            "fatal: destination path 'TM10007_ML_ECG_group4' already exists and is not an empty directory.\n",
            "The number of samples: 827\n",
            "The number of columns: 9001\n"
          ]
        }
      ],
      "source": [
        "# Load CSV file into dataframe\n",
        "!git clone https://github.com/JosefienBerg/TM10007_ML_ECG_group4.git\n",
        "\n",
        "with zipfile.ZipFile('/content/TM10007_ML_ECG_group4/ecg/ecg_data.zip', 'r') as zip_ref:\n",
        "    zip_ref.extractall('/content/TM10007_ML_ECG_group4/ecg')\n",
        "\n",
        "df = pd.read_csv('/content/TM10007_ML_ECG_group4/ecg/ecg_data.csv', index_col=0)\n",
        "\n",
        "print(f'The number of samples: {len(df.index)}')\n",
        "print(f'The number of columns: {len(df.columns)}')"
      ]
    },
    {
      "cell_type": "markdown",
      "source": [
        "Underneath we explore our dataset"
      ],
      "metadata": {
        "id": "OaN6z_VynlYI"
      }
    },
    {
      "cell_type": "code",
      "source": [
        "# How many patients have a normal or abnormal ECG?\n",
        "count0= (df['label'] == 0).sum()\n",
        "count1= (df['label'] == 1).sum()\n",
        "print(f'There are {count0} patients with label 0')\n",
        "print(f'There are {count1} patients with label 1')\n",
        "# Since the majority of patients has no abnormalities we can conclude that label 0 is normal and label 1 is abnormal "
      ],
      "metadata": {
        "id": "6uzs9dYjnrHt",
        "outputId": "bb73ad07-cd34-48fb-9674-d8873ced6767",
        "colab": {
          "base_uri": "https://localhost:8080/"
        }
      },
      "execution_count": null,
      "outputs": [
        {
          "output_type": "stream",
          "name": "stdout",
          "text": [
            "There are 681 patients with label 0\n",
            "There are 146 patients with label 1\n"
          ]
        }
      ]
    },
    {
      "cell_type": "markdown",
      "source": [
        "Now we will perform our initial split"
      ],
      "metadata": {
        "id": "ORtoTNM7LF54"
      }
    },
    {
      "cell_type": "code",
      "source": [
        "# Split the whole data set in a training and test set\n",
        "features = df.loc[:, df.columns !=\"label\"].to_numpy()\n",
        "labels = df[\"label\"].to_numpy()\n",
        "\n",
        "x_train, x_test, y_train, y_test = train_test_split (features, labels, train_size = 0.8, random_state = 42) "
      ],
      "metadata": {
        "id": "7WHZbHF0LKCk"
      },
      "execution_count": null,
      "outputs": []
    },
    {
      "cell_type": "markdown",
      "source": [
        "Lets explore x_train"
      ],
      "metadata": {
        "id": "jhZt3EF9Wf3N"
      }
    },
    {
      "cell_type": "code",
      "source": [
        "# Look at the size\n",
        "print(f\"The training set has {x_train.shape[0]} samples and {x_train.shape[1]} features with {y_train.shape[0]} labels\")\n",
        "print(f\"The test has {x_test.shape[0]} samples and {x_test.shape[1]} features with {y_test.shape[0]} labels\")\n",
        "\n",
        "# Look at the number of label 1 and label 0 in trainingset\n",
        "count0= (y_train == 0).sum()\n",
        "count1= (y_train == 1).sum()\n",
        "print(f'There are {count0} patients with label 0')\n",
        "print(f'There are {count1} patients with label 1')\n",
        "\n",
        "# Look at the distribution\n",
        "df = pd.DataFrame(x_train)\n",
        "display(df.describe())\n",
        "\n",
        "# Look at the type of data\n",
        "print(x_train.dtype)"
      ],
      "metadata": {
        "colab": {
          "base_uri": "https://localhost:8080/",
          "height": 485
        },
        "id": "g3RxneYdWh2Y",
        "outputId": "02849781-bb35-4f21-844d-ccf39ccd6409"
      },
      "execution_count": null,
      "outputs": [
        {
          "output_type": "stream",
          "name": "stdout",
          "text": [
            "The training set has 661 samples and 9000 features with 661 labels\n",
            "The test has 166 samples and 9000 features with 166 labels\n",
            "There are 543 patients with label 0\n",
            "There are 118 patients with label 1\n"
          ]
        },
        {
          "output_type": "display_data",
          "data": {
            "text/plain": [
              "              0            1           2           3            4     \\\n",
              "count   661.000000   661.000000  661.000000  661.000000   661.000000   \n",
              "mean    473.545787    68.219735   40.107831   30.223831    32.912681   \n",
              "std    1090.597625   183.150669   82.932772   56.989313    58.226109   \n",
              "min       0.031717     0.338026    0.374062    0.392388     0.442473   \n",
              "25%       4.048258     6.697330    7.502202    7.973962     9.699800   \n",
              "50%      11.301568    14.319638   16.019461   15.585303    18.526251   \n",
              "75%     414.437620    47.007877   36.407946   29.570521    34.987714   \n",
              "max    9510.877805  2022.415412  963.283307  776.631173  1016.707977   \n",
              "\n",
              "             5            6           7           8           9     ...  \\\n",
              "count  661.000000   661.000000  661.000000  661.000000  661.000000  ...   \n",
              "mean    42.555519    54.601058   38.398261   27.756282   22.688850  ...   \n",
              "std     46.396159    61.963314   52.542619   41.189322   36.309774  ...   \n",
              "min      0.468230     0.291254    0.181994    0.168997    0.732216  ...   \n",
              "25%     13.513050    17.151425   11.714197    8.290047    7.268737  ...   \n",
              "50%     26.475948    39.914146   24.261486   15.910253   13.764587  ...   \n",
              "75%     53.298597    77.536913   48.212765   30.232692   25.157698  ...   \n",
              "max    443.762983  1051.557893  775.236262  483.852043  548.180243  ...   \n",
              "\n",
              "             8990        8991        8992        8993        8994        8995  \\\n",
              "count  661.000000  661.000000  661.000000  661.000000  661.000000  661.000000   \n",
              "mean     0.257628    0.256989    0.260101    0.261333    0.258008    0.259235   \n",
              "std      0.466041    0.492337    0.453205    0.485969    0.523492    0.561868   \n",
              "min      0.000000    0.000000    0.000000    0.000000    0.000000    0.000000   \n",
              "25%      0.083260    0.077778    0.085630    0.083037    0.077072    0.084123   \n",
              "50%      0.142454    0.140854    0.148017    0.139903    0.139145    0.132906   \n",
              "75%      0.254538    0.242179    0.261747    0.250637    0.241596    0.242516   \n",
              "max      6.808234    7.650954    8.154244    8.203337    8.772557    8.889082   \n",
              "\n",
              "             8996        8997        8998        8999  \n",
              "count  661.000000  661.000000  661.000000  661.000000  \n",
              "mean     0.258205    0.251576    0.259956    0.258827  \n",
              "std      0.473904    0.472443    0.533672    0.534501  \n",
              "min      0.000000    0.000000    0.000000    0.000000  \n",
              "25%      0.084571    0.079911    0.074682    0.078336  \n",
              "50%      0.141514    0.137632    0.141386    0.132081  \n",
              "75%      0.260533    0.253220    0.249928    0.244466  \n",
              "max      9.048367    9.013666    9.058323    9.035147  \n",
              "\n",
              "[8 rows x 9000 columns]"
            ],
            "text/html": [
              "\n",
              "  <div id=\"df-247b23eb-f7b3-43eb-abb7-b7e8d1b80c98\">\n",
              "    <div class=\"colab-df-container\">\n",
              "      <div>\n",
              "<style scoped>\n",
              "    .dataframe tbody tr th:only-of-type {\n",
              "        vertical-align: middle;\n",
              "    }\n",
              "\n",
              "    .dataframe tbody tr th {\n",
              "        vertical-align: top;\n",
              "    }\n",
              "\n",
              "    .dataframe thead th {\n",
              "        text-align: right;\n",
              "    }\n",
              "</style>\n",
              "<table border=\"1\" class=\"dataframe\">\n",
              "  <thead>\n",
              "    <tr style=\"text-align: right;\">\n",
              "      <th></th>\n",
              "      <th>0</th>\n",
              "      <th>1</th>\n",
              "      <th>2</th>\n",
              "      <th>3</th>\n",
              "      <th>4</th>\n",
              "      <th>5</th>\n",
              "      <th>6</th>\n",
              "      <th>7</th>\n",
              "      <th>8</th>\n",
              "      <th>9</th>\n",
              "      <th>...</th>\n",
              "      <th>8990</th>\n",
              "      <th>8991</th>\n",
              "      <th>8992</th>\n",
              "      <th>8993</th>\n",
              "      <th>8994</th>\n",
              "      <th>8995</th>\n",
              "      <th>8996</th>\n",
              "      <th>8997</th>\n",
              "      <th>8998</th>\n",
              "      <th>8999</th>\n",
              "    </tr>\n",
              "  </thead>\n",
              "  <tbody>\n",
              "    <tr>\n",
              "      <th>count</th>\n",
              "      <td>661.000000</td>\n",
              "      <td>661.000000</td>\n",
              "      <td>661.000000</td>\n",
              "      <td>661.000000</td>\n",
              "      <td>661.000000</td>\n",
              "      <td>661.000000</td>\n",
              "      <td>661.000000</td>\n",
              "      <td>661.000000</td>\n",
              "      <td>661.000000</td>\n",
              "      <td>661.000000</td>\n",
              "      <td>...</td>\n",
              "      <td>661.000000</td>\n",
              "      <td>661.000000</td>\n",
              "      <td>661.000000</td>\n",
              "      <td>661.000000</td>\n",
              "      <td>661.000000</td>\n",
              "      <td>661.000000</td>\n",
              "      <td>661.000000</td>\n",
              "      <td>661.000000</td>\n",
              "      <td>661.000000</td>\n",
              "      <td>661.000000</td>\n",
              "    </tr>\n",
              "    <tr>\n",
              "      <th>mean</th>\n",
              "      <td>473.545787</td>\n",
              "      <td>68.219735</td>\n",
              "      <td>40.107831</td>\n",
              "      <td>30.223831</td>\n",
              "      <td>32.912681</td>\n",
              "      <td>42.555519</td>\n",
              "      <td>54.601058</td>\n",
              "      <td>38.398261</td>\n",
              "      <td>27.756282</td>\n",
              "      <td>22.688850</td>\n",
              "      <td>...</td>\n",
              "      <td>0.257628</td>\n",
              "      <td>0.256989</td>\n",
              "      <td>0.260101</td>\n",
              "      <td>0.261333</td>\n",
              "      <td>0.258008</td>\n",
              "      <td>0.259235</td>\n",
              "      <td>0.258205</td>\n",
              "      <td>0.251576</td>\n",
              "      <td>0.259956</td>\n",
              "      <td>0.258827</td>\n",
              "    </tr>\n",
              "    <tr>\n",
              "      <th>std</th>\n",
              "      <td>1090.597625</td>\n",
              "      <td>183.150669</td>\n",
              "      <td>82.932772</td>\n",
              "      <td>56.989313</td>\n",
              "      <td>58.226109</td>\n",
              "      <td>46.396159</td>\n",
              "      <td>61.963314</td>\n",
              "      <td>52.542619</td>\n",
              "      <td>41.189322</td>\n",
              "      <td>36.309774</td>\n",
              "      <td>...</td>\n",
              "      <td>0.466041</td>\n",
              "      <td>0.492337</td>\n",
              "      <td>0.453205</td>\n",
              "      <td>0.485969</td>\n",
              "      <td>0.523492</td>\n",
              "      <td>0.561868</td>\n",
              "      <td>0.473904</td>\n",
              "      <td>0.472443</td>\n",
              "      <td>0.533672</td>\n",
              "      <td>0.534501</td>\n",
              "    </tr>\n",
              "    <tr>\n",
              "      <th>min</th>\n",
              "      <td>0.031717</td>\n",
              "      <td>0.338026</td>\n",
              "      <td>0.374062</td>\n",
              "      <td>0.392388</td>\n",
              "      <td>0.442473</td>\n",
              "      <td>0.468230</td>\n",
              "      <td>0.291254</td>\n",
              "      <td>0.181994</td>\n",
              "      <td>0.168997</td>\n",
              "      <td>0.732216</td>\n",
              "      <td>...</td>\n",
              "      <td>0.000000</td>\n",
              "      <td>0.000000</td>\n",
              "      <td>0.000000</td>\n",
              "      <td>0.000000</td>\n",
              "      <td>0.000000</td>\n",
              "      <td>0.000000</td>\n",
              "      <td>0.000000</td>\n",
              "      <td>0.000000</td>\n",
              "      <td>0.000000</td>\n",
              "      <td>0.000000</td>\n",
              "    </tr>\n",
              "    <tr>\n",
              "      <th>25%</th>\n",
              "      <td>4.048258</td>\n",
              "      <td>6.697330</td>\n",
              "      <td>7.502202</td>\n",
              "      <td>7.973962</td>\n",
              "      <td>9.699800</td>\n",
              "      <td>13.513050</td>\n",
              "      <td>17.151425</td>\n",
              "      <td>11.714197</td>\n",
              "      <td>8.290047</td>\n",
              "      <td>7.268737</td>\n",
              "      <td>...</td>\n",
              "      <td>0.083260</td>\n",
              "      <td>0.077778</td>\n",
              "      <td>0.085630</td>\n",
              "      <td>0.083037</td>\n",
              "      <td>0.077072</td>\n",
              "      <td>0.084123</td>\n",
              "      <td>0.084571</td>\n",
              "      <td>0.079911</td>\n",
              "      <td>0.074682</td>\n",
              "      <td>0.078336</td>\n",
              "    </tr>\n",
              "    <tr>\n",
              "      <th>50%</th>\n",
              "      <td>11.301568</td>\n",
              "      <td>14.319638</td>\n",
              "      <td>16.019461</td>\n",
              "      <td>15.585303</td>\n",
              "      <td>18.526251</td>\n",
              "      <td>26.475948</td>\n",
              "      <td>39.914146</td>\n",
              "      <td>24.261486</td>\n",
              "      <td>15.910253</td>\n",
              "      <td>13.764587</td>\n",
              "      <td>...</td>\n",
              "      <td>0.142454</td>\n",
              "      <td>0.140854</td>\n",
              "      <td>0.148017</td>\n",
              "      <td>0.139903</td>\n",
              "      <td>0.139145</td>\n",
              "      <td>0.132906</td>\n",
              "      <td>0.141514</td>\n",
              "      <td>0.137632</td>\n",
              "      <td>0.141386</td>\n",
              "      <td>0.132081</td>\n",
              "    </tr>\n",
              "    <tr>\n",
              "      <th>75%</th>\n",
              "      <td>414.437620</td>\n",
              "      <td>47.007877</td>\n",
              "      <td>36.407946</td>\n",
              "      <td>29.570521</td>\n",
              "      <td>34.987714</td>\n",
              "      <td>53.298597</td>\n",
              "      <td>77.536913</td>\n",
              "      <td>48.212765</td>\n",
              "      <td>30.232692</td>\n",
              "      <td>25.157698</td>\n",
              "      <td>...</td>\n",
              "      <td>0.254538</td>\n",
              "      <td>0.242179</td>\n",
              "      <td>0.261747</td>\n",
              "      <td>0.250637</td>\n",
              "      <td>0.241596</td>\n",
              "      <td>0.242516</td>\n",
              "      <td>0.260533</td>\n",
              "      <td>0.253220</td>\n",
              "      <td>0.249928</td>\n",
              "      <td>0.244466</td>\n",
              "    </tr>\n",
              "    <tr>\n",
              "      <th>max</th>\n",
              "      <td>9510.877805</td>\n",
              "      <td>2022.415412</td>\n",
              "      <td>963.283307</td>\n",
              "      <td>776.631173</td>\n",
              "      <td>1016.707977</td>\n",
              "      <td>443.762983</td>\n",
              "      <td>1051.557893</td>\n",
              "      <td>775.236262</td>\n",
              "      <td>483.852043</td>\n",
              "      <td>548.180243</td>\n",
              "      <td>...</td>\n",
              "      <td>6.808234</td>\n",
              "      <td>7.650954</td>\n",
              "      <td>8.154244</td>\n",
              "      <td>8.203337</td>\n",
              "      <td>8.772557</td>\n",
              "      <td>8.889082</td>\n",
              "      <td>9.048367</td>\n",
              "      <td>9.013666</td>\n",
              "      <td>9.058323</td>\n",
              "      <td>9.035147</td>\n",
              "    </tr>\n",
              "  </tbody>\n",
              "</table>\n",
              "<p>8 rows × 9000 columns</p>\n",
              "</div>\n",
              "      <button class=\"colab-df-convert\" onclick=\"convertToInteractive('df-247b23eb-f7b3-43eb-abb7-b7e8d1b80c98')\"\n",
              "              title=\"Convert this dataframe to an interactive table.\"\n",
              "              style=\"display:none;\">\n",
              "        \n",
              "  <svg xmlns=\"http://www.w3.org/2000/svg\" height=\"24px\"viewBox=\"0 0 24 24\"\n",
              "       width=\"24px\">\n",
              "    <path d=\"M0 0h24v24H0V0z\" fill=\"none\"/>\n",
              "    <path d=\"M18.56 5.44l.94 2.06.94-2.06 2.06-.94-2.06-.94-.94-2.06-.94 2.06-2.06.94zm-11 1L8.5 8.5l.94-2.06 2.06-.94-2.06-.94L8.5 2.5l-.94 2.06-2.06.94zm10 10l.94 2.06.94-2.06 2.06-.94-2.06-.94-.94-2.06-.94 2.06-2.06.94z\"/><path d=\"M17.41 7.96l-1.37-1.37c-.4-.4-.92-.59-1.43-.59-.52 0-1.04.2-1.43.59L10.3 9.45l-7.72 7.72c-.78.78-.78 2.05 0 2.83L4 21.41c.39.39.9.59 1.41.59.51 0 1.02-.2 1.41-.59l7.78-7.78 2.81-2.81c.8-.78.8-2.07 0-2.86zM5.41 20L4 18.59l7.72-7.72 1.47 1.35L5.41 20z\"/>\n",
              "  </svg>\n",
              "      </button>\n",
              "      \n",
              "  <style>\n",
              "    .colab-df-container {\n",
              "      display:flex;\n",
              "      flex-wrap:wrap;\n",
              "      gap: 12px;\n",
              "    }\n",
              "\n",
              "    .colab-df-convert {\n",
              "      background-color: #E8F0FE;\n",
              "      border: none;\n",
              "      border-radius: 50%;\n",
              "      cursor: pointer;\n",
              "      display: none;\n",
              "      fill: #1967D2;\n",
              "      height: 32px;\n",
              "      padding: 0 0 0 0;\n",
              "      width: 32px;\n",
              "    }\n",
              "\n",
              "    .colab-df-convert:hover {\n",
              "      background-color: #E2EBFA;\n",
              "      box-shadow: 0px 1px 2px rgba(60, 64, 67, 0.3), 0px 1px 3px 1px rgba(60, 64, 67, 0.15);\n",
              "      fill: #174EA6;\n",
              "    }\n",
              "\n",
              "    [theme=dark] .colab-df-convert {\n",
              "      background-color: #3B4455;\n",
              "      fill: #D2E3FC;\n",
              "    }\n",
              "\n",
              "    [theme=dark] .colab-df-convert:hover {\n",
              "      background-color: #434B5C;\n",
              "      box-shadow: 0px 1px 3px 1px rgba(0, 0, 0, 0.15);\n",
              "      filter: drop-shadow(0px 1px 2px rgba(0, 0, 0, 0.3));\n",
              "      fill: #FFFFFF;\n",
              "    }\n",
              "  </style>\n",
              "\n",
              "      <script>\n",
              "        const buttonEl =\n",
              "          document.querySelector('#df-247b23eb-f7b3-43eb-abb7-b7e8d1b80c98 button.colab-df-convert');\n",
              "        buttonEl.style.display =\n",
              "          google.colab.kernel.accessAllowed ? 'block' : 'none';\n",
              "\n",
              "        async function convertToInteractive(key) {\n",
              "          const element = document.querySelector('#df-247b23eb-f7b3-43eb-abb7-b7e8d1b80c98');\n",
              "          const dataTable =\n",
              "            await google.colab.kernel.invokeFunction('convertToInteractive',\n",
              "                                                     [key], {});\n",
              "          if (!dataTable) return;\n",
              "\n",
              "          const docLinkHtml = 'Like what you see? Visit the ' +\n",
              "            '<a target=\"_blank\" href=https://colab.research.google.com/notebooks/data_table.ipynb>data table notebook</a>'\n",
              "            + ' to learn more about interactive tables.';\n",
              "          element.innerHTML = '';\n",
              "          dataTable['output_type'] = 'display_data';\n",
              "          await google.colab.output.renderOutput(dataTable, element);\n",
              "          const docLink = document.createElement('div');\n",
              "          docLink.innerHTML = docLinkHtml;\n",
              "          element.appendChild(docLink);\n",
              "        }\n",
              "      </script>\n",
              "    </div>\n",
              "  </div>\n",
              "  "
            ]
          },
          "metadata": {}
        },
        {
          "output_type": "stream",
          "name": "stdout",
          "text": [
            "float64\n"
          ]
        }
      ]
    },
    {
      "cell_type": "markdown",
      "source": [
        "As a last step, we want do delelte entire rows and columns with only zeros or NaN as that can be seen as missing data."
      ],
      "metadata": {
        "id": "We8ePYjT1Qid"
      }
    },
    {
      "cell_type": "code",
      "source": [
        "#Delete rows and columns with only zero's or NaN's\n",
        "def delete_missing_rows(x, y):\n",
        "  concat = np.c_[x, y]\n",
        "\n",
        "  for row in x:\n",
        "    index = np.where((row == 0).all) or np.where((row == np.nan).all)\n",
        "    np.delete(concat, index, 0)\n",
        "  \n",
        "  x =  concat[:,:-1]\n",
        "  y = concat[:,-1] \n",
        "  return x, y\n",
        "\n",
        "x_train_imp, y_train_imp = delete_missing_rows(x_train, y_train)\n"
      ],
      "metadata": {
        "id": "zuqOeZIQ1FSS"
      },
      "execution_count": null,
      "outputs": []
    },
    {
      "cell_type": "markdown",
      "source": [
        "## 2. Imputation\n",
        "Datasets with missing values that are filled with placeholders such as NaN and None, can cause problems when using estimators. Therefore you want to perform imputation in order to create usable datasets."
      ],
      "metadata": {
        "id": "hbyr7EH1fUE3"
      }
    },
    {
      "cell_type": "markdown",
      "source": [
        "Underneath we create the functions for the imputation steps"
      ],
      "metadata": {
        "id": "iiggNmNvmsOw"
      }
    },
    {
      "cell_type": "code",
      "source": [
        "# #Replace nan's and zeros since the chance of a zero is very low due to only float types\n",
        "def replace_missing_values(x): \n",
        "  imp = SimpleImputer(missing_values = np.nan, strategy='mean', copy = False)\n",
        "  imp.fit_transform(x, y=None) #removes entire columns if it contains only missing values\n",
        "\n",
        "  imp = SimpleImputer(missing_values = 0, strategy='mean', copy = False)\n",
        "  imp.fit_transform(x, y=None) #removes entire columns if it contains only missing values\n",
        "  return x\n",
        "\n",
        "# Call functions to perform imputation steps and rename x_train\n",
        "x_train_imp = replace_missing_values(x_train)\n",
        "\n",
        "print(x_train_imp.shape)\n",
        "print(y_train_imp.shape)\n",
        "\n",
        "count0= (x_train_imp == 0).sum() \n",
        "countNaN = np.isnan(x_train_imp)[np.isnan(x_train_imp) == True].size\n",
        "print(f\"There are {count0} zeros and {countNaN} NaN values left in the dataset\")"
      ],
      "metadata": {
        "id": "nIf-5Y4zm3ND",
        "colab": {
          "base_uri": "https://localhost:8080/"
        },
        "outputId": "fbf0da3d-a22b-4d71-a990-f6a66e233d5d"
      },
      "execution_count": null,
      "outputs": [
        {
          "output_type": "stream",
          "name": "stdout",
          "text": [
            "(661, 9000)\n",
            "(661,)\n",
            "There are 0 zeros and 0 NaN values left in the dataset\n"
          ]
        }
      ]
    },
    {
      "cell_type": "markdown",
      "source": [
        "## 3. Data scaling, extraction and feature selection\n",
        "In this section we will explore multiple scaling methods, determine if we will use PCA and define the treshold and we will explore mutliple feature selection methods. After this section we will have a dictionary containing the x_train data for all combinations of the chosen scaling, extraction (PCA) and selection methods."
      ],
      "metadata": {
        "id": "WIucopYVnYBI"
      }
    },
    {
      "cell_type": "markdown",
      "source": [
        "\n",
        "There are multiple ways to scale features by standarization and normalization."
      ],
      "metadata": {
        "id": "qYnQ0Ml9oA1G"
      }
    },
    {
      "cell_type": "code",
      "source": [
        "# 1. Standardization of the data\n",
        "scaler_standard = StandardScaler()\n",
        "x_scaled_standard = scaler_standard.fit_transform(x_train_imp) \n",
        "\n",
        "# # 2. Min-max scaling\n",
        "# scaler_minmax = MinMaxScaler()\n",
        "# x_scaled_minmax = scaler_minmax.fit_transform(x_train_imp)\n",
        "\n",
        "# 3. Robust scaling --> Robust is removed due to a to extensive loading time during the training of SVC\n",
        "scaler_robust= RobustScaler()\n",
        "x_scaled_robust = scaler_robust.fit_transform(x_train_imp)\n",
        "\n",
        "x_scaled = {\"standard\":x_scaled_standard, \"robust\":x_scaled_robust}"
      ],
      "metadata": {
        "id": "7lPiglbIne_l"
      },
      "execution_count": null,
      "outputs": []
    },
    {
      "cell_type": "markdown",
      "source": [
        "Now we are going to perform PCA and determine the treshold."
      ],
      "metadata": {
        "id": "J9t4kREtoB0a"
      }
    },
    {
      "cell_type": "code",
      "source": [
        "# PCA\n",
        "plt.close('all') #before plotting, close all old windows\n",
        "x_scaled_pca = {} #create dictionary to add all combinations of scaling combined with PCA to\n",
        "\n",
        "for key, x in x_scaled.items():\n",
        "    \n",
        "    # applying pca\n",
        "    pca_setting = PCA(n_components = 0.95) # threshold at 95% method\n",
        "    x_pca = pca_setting.fit_transform(x)\n",
        "    x_scaled_pca[f\"x_{key}_PCA\"] = x_pca\n",
        "\n",
        "    # plot to show treshold choice\n",
        "    pca_figure = PCA().fit(x)\n",
        "    plt.rcParams[\"figure.figsize\"] = (12,6)\n",
        "\n",
        "    fig, ax = plt.subplots()\n",
        "    xi = np.arange(1, 662, step=1)\n",
        "    y = np.cumsum(pca_figure.explained_variance_ratio_)\n",
        "\n",
        "    plt.ylim(0.0,1.1)\n",
        "    plt.plot(xi, y, marker='o', linestyle='--', color='b')\n",
        "\n",
        "    plt.xlabel('Number of Components')\n",
        "    plt.xticks(np.arange(0, 661, step=50)) #change from 0-based array index to 1-based human-readable label\n",
        "    plt.ylabel('Cumulative variance (%)')\n",
        "    plt.title(f'The number of components needed to explain variance for scaling method {key}')\n",
        "\n",
        "    plt.axhline(y=0.95, color='r', linestyle='-')\n",
        "    plt.text(0.5, 0.9, '95% cut-off threshold', color = 'red', fontsize=16)\n",
        "\n",
        "    plt.axhline(y=0.85, color='r', linestyle='-')\n",
        "    plt.text(0.5, 0.8, '85% cut-off threshold', color = 'red', fontsize=16)\n",
        "\n",
        "    plt.axhline(y=0.75, color='r', linestyle='-')\n",
        "    plt.text(0.5, 0.7, '75% cut-off threshold', color = 'red', fontsize=16)\n",
        "\n",
        "    ax.grid(axis='x')\n",
        "    plt.show()"
      ],
      "metadata": {
        "id": "nVCz7FgOnglf",
        "colab": {
          "base_uri": "https://localhost:8080/",
          "height": 1000
        },
        "outputId": "b7ed5f55-6e7b-43a0-d242-58638f10ec85"
      },
      "execution_count": null,
      "outputs": [
        {
          "output_type": "display_data",
          "data": {
            "text/plain": [
              "<Figure size 1200x600 with 1 Axes>"
            ],
            "image/png": "[encoded data removed]"
          },
          "metadata": {}
        },
        {
          "output_type": "display_data",
          "data": {
            "text/plain": [
              "<Figure size 1200x600 with 1 Axes>"
            ],
            "image/png": "[encoded data removed]"
          },
          "metadata": {}
        }
      ]
    },
    {
      "cell_type": "markdown",
      "source": [
        "Lasty we will look at feature selection. "
      ],
      "metadata": {
        "id": "4Cnit418Lpz9"
      }
    },
    {
      "cell_type": "code",
      "source": [
        "# Feature selection with and without PCA\n",
        "x_scaled_selected = {} #create dictionary to add all combinations of scaling with or without PCA combined with feature selection\n",
        "\n",
        "selector = SelectKBest(f_classif)\n",
        "k = 10\n",
        "\n",
        "#Including PCA\n",
        "for key, x in x_scaled_pca.items():\n",
        "    selector.k = k\n",
        "    x_ffs = selector.fit_transform(x, y_train_imp)  # ffs = f-test feature selection\n",
        "    x_scaled_selected[f\"{key}_ffs\"] =  x_ffs\n",
        "\n",
        "#Excluding PCA\n",
        "for key, x in x_scaled.items():\n",
        "    selector.k = k\n",
        "    x_ffs = selector.fit_transform(x, y_train_imp)  # ffs = f-test feature selection\n",
        "    x_scaled_selected[f\"x_{key}_ffs\"] =  x_ffs"
      ],
      "metadata": {
        "id": "JcMcEILqLpeU"
      },
      "execution_count": null,
      "outputs": []
    },
    {
      "cell_type": "markdown",
      "source": [
        "Now we finish with a dictionary x_scaled_selected that inclused all combinations between feature scaling, feature extraction (PCA) and feature selection."
      ],
      "metadata": {
        "id": "mXpSLiVhLy0x"
      }
    },
    {
      "cell_type": "markdown",
      "source": [
        "## 4. Classifiers: hyperparameter tuning and fitting\n",
        "In this section we will build a neural network and train our different clasiffiers (standard and the neural network) and compare their functionality in terms of F1 and average precision. We will perform this for all possible combinations of scaling, selection and classification possibilities. This is also the section were we will tune our parameters."
      ],
      "metadata": {
        "id": "UXm9Ps4sm-v-"
      }
    },
    {
      "cell_type": "markdown",
      "source": [
        "First we are going to set the models and parameters we are going to tune and write the function for tuning. "
      ],
      "metadata": {
        "id": "jWntzXM0oGlg"
      }
    },
    {
      "cell_type": "code",
      "source": [
        "# Creating a dictionary of all proposed classifiers\n",
        "models = { #\"GaussianNB\": GaussianNB(), --> removed due to underperformance\n",
        "          \"KNeighborsClassifier\": KNeighborsClassifier(),\n",
        "          \"RandomForestClassifier\":RandomForestClassifier(),\n",
        "          # \"LinearSVC\": LinearSVC(), --> removed due to underperformance\n",
        "          \"SVC\":SVC(),\n",
        "          \"MLP\": MLPClassifier()}\n",
        "\n",
        "# Creating a dictionary of all models with default paramters (note; random state=42 only added in the last run)\n",
        "model_parameters = { #\"GaussianNB\": {}, \n",
        "                    \"KNeighborsClassifier\":{\"n_neighbors\":[x for x in range(1, 600)], \"weights\": [\"distance\", \"uniform\"]},\n",
        "                    \"RandomForestClassifier\":{\"n_estimators\":[x for x in range(5,10)], \"max_depth\":[x for x in range (1,20)], \"min_samples_leaf\": [x for x in range (1, 20)]},\n",
        "                    # \"LinearSVC\":{\"C\": [0.01,0.1,1,10,100]},\n",
        "                    \"SVC\":{\"C\": [0.01,0.1,1,10,100], \"kernel\": [\"rbf\", \"poly\"], \"degree\":[x for x in range (2,4)]},\n",
        "                    \"MLP\": {\"hidden_layer_sizes\": [10,610,100], \"activation\": [\"relu\", \"logistic\", \"tanh\"], \"solver\": [\"sgd\", \"adam\", \"lbgfs\"], \n",
        "                            \"learning_rate\": [\"constant\", \"adaptive\"], \"max_iter\":[100]}\n",
        "                    }                 \n",
        "\n",
        "# Function to clean up results and create dataframe with wanted results\n",
        "def get_dataframe_from_results(results, scoring):\n",
        "  \"\"\" This function makes sure that we can clean up the results that we get from the grid search and leaves is with the necessary results\"\"\"\n",
        "  df_to_concat = [pd.DataFrame(results[\"params\"])]\n",
        "\n",
        "  for key in scoring:\n",
        "    df_to_concat.append(pd.DataFrame(results[f\"mean_test_{key}\"], columns=[key]))\n",
        "    # df_to_concat.append(pd.DataFrame(results[f\"mean_test_{key}\"], columns=[key]))\n",
        "    # df_to_concat.append(pd.DataFrame(results[f\"std_train_{key}\"], columns=[key]))\n",
        "    # df_to_concat.append(pd.DataFrame(results[f\"std_test_{key}\"], columns=[key]))\n",
        "\n",
        "  return pd.concat(df_to_concat, axis=1)\n",
        "\n",
        "from sklearn.model_selection import cross_validate\n",
        "\n",
        "# Function to do a grid search on each model using the parameters in the model_parameter dictionary\n",
        "def parametertuning(Models, ModelParameters, n_splits, random_state, scoring, refit, X, Y):\n",
        "  \"\"\" This function performs the parameter tuning by doing a gridsearch with multiple parameters per model it returns the results that are cleaned up and only show the necessary\"\"\"\n",
        "  results = {} #create a dictionary to save results\n",
        "\n",
        "  for model_name, parameters in ModelParameters.items():\n",
        "    print(f\"Randomized searching {model_name}\")\n",
        "    model = Models[model_name]  # Find corresponding model in models dict\n",
        "    # Arrays to store scores\n",
        "    NUM_TRIALS =30\n",
        "    non_nested_scores = np.zeros(NUM_TRIALS)\n",
        "    nested_scores = np.zeros(NUM_TRIALS)\n",
        "\n",
        "    # Loop for each trial\n",
        "    for i in range(NUM_TRIALS):\n",
        "\n",
        "        # Create the Cross vallidation object\n",
        "        cv_outer = KFold(n_splits=n_splits, random_state=random_state, shuffle=True)  \n",
        "        cv_inner = KFold(n_splits=n_splits, random_state=random_state, shuffle=True)\n",
        "        \n",
        "        # non-nested: Perform a grid search for the best parameters for the model using the test data and KFold\n",
        "        randomized_search_outer = RandomizedSearchCV(model, parameters, cv=cv_outer, n_iter=10, n_jobs=-1, verbose=False, scoring=scoring, refit=refit, return_train_score=True) \n",
        "        randomized_search_outer.fit(X, Y)\n",
        "        non_nested_scores[i] = randomized_search_outer.best_score_\n",
        "\n",
        "        # nested\n",
        "        randomized_search_inner = RandomizedSearchCV(model, parameters, cv=cv_inner, n_iter=10, n_jobs=-1, verbose=False, scoring=scoring, refit=refit, return_train_score=True) \n",
        "        randomized_search_inner.fit(X, Y)\n",
        "        nested_score = cross_validate(randomized_search_inner, X, Y, cv=cv_outer)\n",
        "        nested_scores[i] = nested_score.mean()\n",
        "\n",
        "        # # Results of grid search\n",
        "        # best_estimator = randomized_search.best_estimator_ # Returns the model with the best parameters filled in based on refit scoring metric\n",
        "        # randomized_search_results = get_dataframe_from_results(randomized_search.cv_results_, scoring) # Extracts the necessary results \n",
        "\n",
        "        # #Compute the mean accuracy for every BestEstimator to compare with the 85% mentioned in the assignment\n",
        "        # accuracy = np.mean(cross_val_score(best_estimator, X, Y, cv=cv)) \n",
        "\n",
        "        # # Add the results to the dictionary\n",
        "        # results[model_name] = {\"BestEstimator\": best_estimator, \"Accuracy\":accuracy, \"GSresults\": randomized_search_results}\n",
        "  \n",
        "  return results"
      ],
      "metadata": {
        "id": "rB8WQrT8nBlD"
      },
      "execution_count": 63,
      "outputs": []
    },
    {
      "cell_type": "markdown",
      "source": [
        "Now we are going write the function to plot the relation between the scoring type and certain parameters in order to prove that we chose the right parameter combinations."
      ],
      "metadata": {
        "id": "7Fo3B9GtoHfW"
      }
    },
    {
      "cell_type": "code",
      "source": [
        "# # Create validation curves\n",
        "# def validation_curves(ModelParameters, results, scoring):\n",
        "#    for model_name, parameters in ModelParameters.items():\n",
        "#     for key in scoring:\n",
        "#       fig, ax = plt.subplots(len(parameters))\n",
        "#       for i in range(1,(len(parameters)+1)):\n",
        "#         for name, ranges in parameters.items(): \n",
        "#           mean_train = results[model_name][\"GSresults\"][f'mean_train_{key}'][name]\n",
        "#           mean_test = results[model_name][\"GSresults\"][f'mean_test_score{key}'][name]\n",
        "#           std_train = results[model_name][\"GSresults\"][f'std_train_score{key}'][name]\n",
        "#           std_test = results[model_name][\"GSresults\"][f'std_test_score{key}'][name]\n",
        "\n",
        "#           ax[1,i].plt.plot(ranges, mean_train, label=\"Training score\", color=\"black\")\n",
        "#           ax[1,i].plt.plot(ranges, mean_test, label=\"Cross-validation score\", color=\"dimgrey\")\n",
        "#           ax[1,i].plt.fill_between(ranges, mean_train - std_train, mean_train + std_train, color=\"gray\")\n",
        "#           ax[1,i].plt.fill_between(ranges, mean_test - std_test, mean_test + std_test, color=\"gainsboro\")\n",
        "      \n",
        "#           ax[1,i].set_title(f\"Validation Curve With {model_name}\")\n",
        "#           ax[1,i].set_xlabel(f\"{name}\")\n",
        "#           ax[1,i].set_ylabel(f\"{key}\")\n",
        "#           plt.show()"
      ],
      "metadata": {
        "id": "B8eYw97-_Iqh"
      },
      "execution_count": null,
      "outputs": []
    },
    {
      "cell_type": "code",
      "source": [
        "# Since we do not tune any paramters in GaussianNB we don't need to make a plot\n",
        "\n",
        "#---------------Plot for KNeighborsClassifier---------------\n",
        "def plot_knn(results, scoring, combination_name):\n",
        "  knn_df = results[\"KNeighborsClassifier\"][\"GSresults\"]\n",
        "  uni_knn_df = knn_df[knn_df[\"weights\"] == \"uniform\"]\n",
        "  uni_knn_df = uni_knn_df.sort_values(by='n_neighbors', ascending=False)\n",
        "\n",
        "  dist_knn_df = knn_df[knn_df[\"weights\"] == \"distance\"]\n",
        "  uni_knn_df = uni_knn_df.sort_values(by='n_neighbors', ascending=False)\n",
        "\n",
        "  for key in scoring:\n",
        "    index_maxscore = knn_df[key].idxmax()\n",
        "\n",
        "    plt.plot(uni_knn_df[\"n_neighbors\"].to_numpy(), uni_knn_df[key].to_numpy(), label= \"uniform\")\n",
        "    plt.plot(dist_knn_df[\"n_neighbors\"].to_numpy(), dist_knn_df[key].to_numpy(), label= \"distance\")\n",
        "    plt.scatter(knn_df[\"n_neighbors\"][index_maxscore], knn_df[key].max(), s= 200, marker = \"*\", c=\"m\")\n",
        "\n",
        "    plt.legend()\n",
        "    plt.title(f\"The relation between the {key} of the KNN classifier and the parameters {combination_name}\")\n",
        "    plt.xlabel(\"N-neighbour\")\n",
        "    plt.ylabel(f\"{key}\")\n",
        "    plt.show()\n",
        "\n",
        "#---------------Plot for SVC Classifier--------------- \n",
        "def plot_svc(results, scoring, combination_name):\n",
        "  svc_df = results[\"SVC\"][\"GSresults\"]\n",
        "  linear_svc_df = svc_df[svc_df[\"kernel\"]==\"linear\"]\n",
        "  rbf_svc_df = svc_df[svc_df[\"kernel\"]==\"rbf\"]\n",
        "  poly_svc_df = svc_df[svc_df[\"kernel\"]==\"poly\"]\n",
        "\n",
        "  for key in scoring:\n",
        "    index_maxscore = svc_df[key].idxmax()\n",
        "\n",
        "    for i in range(2,5):\n",
        "      degree_svc_df = poly_svc_df[poly_svc_df[\"degree\"]==i]\n",
        "      plt.plot(degree_svc_df[\"C\"].to_numpy(), degree_svc_df[key].to_numpy(), label= f\"poly degree {i}\")\n",
        "\n",
        "    plt.plot(linear_svc_df[\"C\"].to_numpy(), linear_svc_df[key].to_numpy(), label= \"linear\")\n",
        "    plt.plot(rbf_svc_df[\"C\"].to_numpy(), rbf_svc_df[key].to_numpy(), label= \"rbf\")\n",
        "    plt.scatter(svc_df[\"C\"][index_maxscore], svc_df[key].max(), s = 200, marker = \"*\", c=\"m\")\n",
        "\n",
        "    plt.legend()\n",
        "    plt.title(f\"The relation between the {key} of the SVC classifier and the parameters {combination_name}\")\n",
        "    plt.xscale(\"log\")\n",
        "    plt.xlabel(\"C-value\")\n",
        "    plt.ylabel(f\"{key}\")\n",
        "    plt.show()\n",
        "\n",
        "# ---------------Plots for RandomForestClassifier---------------\n",
        "def plot_randomforest(results, scoring, combination_name):\n",
        "  forest_df = results[\"RandomForestClassifier\"][\"GSresults\"]\n",
        "\n",
        "  for key in scoring:\n",
        "    index_maxscore = forest_df[key].idxmax() #index (number of the row)\n",
        "    x_marker= forest_df[\"max_depth\"][index_maxscore]\n",
        "    y_marker= forest_df[\"min_samples_leaf\"][index_maxscore]\n",
        "    z_marker= forest_df[\"n_estimators\"][index_maxscore] \n",
        "\n",
        "    fig = px.scatter_3d(forest_df, x=\"max_depth\", y=\"min_samples_leaf\", z=\"n_estimators\", color=key,  title=f\"The relation between the {key} of the Random Forest and the parameters {combination_name}\")\n",
        "    fig.add_trace(go.Scatter3d(x=[x_marker], y=[y_marker], z=[z_marker], mode = 'markers', marker=dict(color='LightSkyBlue', size=10, symbol='diamond')))\n",
        "   \n",
        "  \n",
        "    fig.show()\n",
        "\n",
        "# ---------------Plots for MLP---------------\n",
        "# def plot_MLP(mlp.loss_curve_)\n",
        "#     plt.plot(mlp.loss_curve_)\n",
        "#     plt.xlabel('Epochs')\n",
        "#     plt.ylabel('Loss')"
      ],
      "metadata": {
        "id": "YS-1NeZunEfi"
      },
      "execution_count": null,
      "outputs": []
    },
    {
      "cell_type": "markdown",
      "source": [
        "Beneath, we write the function to display the best scoring results for each model."
      ],
      "metadata": {
        "id": "DjUe1_wAoJpk"
      }
    },
    {
      "cell_type": "code",
      "source": [
        "# Plot tabel with scoring metric and optimal paramater combination per scalor and selection\n",
        "def create_table_of_results(results_all_combinations, combination_name):\n",
        "  BestEstimators = []\n",
        "  F1_scores = []\n",
        "  Average_Precision_scores = []\n",
        "  Mean_accuracy = []\n",
        "  model_names = [] \n",
        "\n",
        "  results = results_all_combinations[combination_name]\n",
        "\n",
        "  for model_name in results:\n",
        "    BestEstimator = results[model_name][\"BestEstimator\"]\n",
        "    F1 = results[model_name][\"GSresults\"][\"F1\"].max()\n",
        "    Average_Precision = results[model_name][\"GSresults\"][\"Average Precision\"].max()\n",
        "    mean_accuracy = results[model_name][\"Accuracy\"]\n",
        "    F1_scores.append(F1)\n",
        "    BestEstimators.append(BestEstimator)\n",
        "    Average_Precision_scores.append(Average_Precision)\n",
        "    Mean_accuracy.append(mean_accuracy)\n",
        "    model_names.append(model_name)\n",
        "\n",
        "  print(f\"Table of results for combination {combination_name}\")\n",
        "  display(pd.DataFrame({\"ModelName\":model_names, \"F1\":F1_scores, \"Average Precision\":Average_Precision_scores, \"BestEstimator\":BestEstimators, \"Mean accuracy of BestEstimator\":Mean_accuracy}).style.hide(axis='index'))\n",
        "  print()"
      ],
      "metadata": {
        "id": "a3_dsVkEoKto"
      },
      "execution_count": null,
      "outputs": []
    },
    {
      "cell_type": "markdown",
      "source": [
        "Lastly, we will call all functions written to tune all the parameters and plot the results for each combination of scaling, PCA and selection."
      ],
      "metadata": {
        "id": "IA5YZ10iM5OG"
      }
    },
    {
      "cell_type": "code",
      "source": [
        "# Perform training\n",
        "results_all_combinations = {}\n",
        "y_train_combinations = {\"1\":y_train, \"2\":y_train, \"3\":y_train, \"4\":y_train}\n",
        "\n",
        "for combination_name, data in x_scaled_selected.items():\n",
        "  for number, labels in y_train_combinations.items():\n",
        "    \n",
        "    # Perform oversampling to balance imbalance\n",
        "    sm = SMOTE(random_state=None)\n",
        "    data_sm, y_train_sm = sm.fit_resample(data, labels)\n",
        "\n",
        "  #Create scorers\n",
        "  f1_scorer = make_scorer(f1_score, labels = None, average = 'binary', pos_label = 1) \n",
        "  average_precision_scorer = make_scorer(average_precision_score, pos_label = 1)\n",
        "  scoring = {\"F1\":f1_scorer, \"Average Precision\":average_precision_scorer} #Determine what type of scoring you want to use\n",
        "  \n",
        "  #Ignorme warnings from MLP\n",
        "  import warnings\n",
        "  warnings.filterwarnings('ignore') \n",
        "\n",
        "  # Perform randomized search\n",
        "  results = parametertuning(models, model_parameters, 5, None, scoring, \"F1\", data_sm, y_train_sm)\n",
        "  results_all_combinations[combination_name] = results"
      ],
      "metadata": {
        "colab": {
          "base_uri": "https://localhost:8080/",
          "height": 356
        },
        "id": "isqnuYlhM6Oz",
        "outputId": "0b63ef2a-767b-4d75-ac64-29143a036305"
      },
      "execution_count": 64,
      "outputs": [
        {
          "output_type": "stream",
          "name": "stdout",
          "text": [
            "Randomized searching KNeighborsClassifier\n"
          ]
        },
        {
          "output_type": "error",
          "ename": "AttributeError",
          "evalue": "ignored",
          "traceback": [
            "\u001b[0;31m---------------------------------------------------------------------------\u001b[0m",
            "\u001b[0;31mAttributeError\u001b[0m                            Traceback (most recent call last)",
            "\u001b[0;32m<ipython-input-64-f103277457ca>\u001b[0m in \u001b[0;36m<cell line: 5>\u001b[0;34m()\u001b[0m\n\u001b[1;32m     20\u001b[0m \u001b[0;34m\u001b[0m\u001b[0m\n\u001b[1;32m     21\u001b[0m   \u001b[0;31m# Perform randomized search\u001b[0m\u001b[0;34m\u001b[0m\u001b[0;34m\u001b[0m\u001b[0m\n\u001b[0;32m---> 22\u001b[0;31m   \u001b[0mresults\u001b[0m \u001b[0;34m=\u001b[0m \u001b[0mparametertuning\u001b[0m\u001b[0;34m(\u001b[0m\u001b[0mmodels\u001b[0m\u001b[0;34m,\u001b[0m \u001b[0mmodel_parameters\u001b[0m\u001b[0;34m,\u001b[0m \u001b[0;36m5\u001b[0m\u001b[0;34m,\u001b[0m \u001b[0;32mNone\u001b[0m\u001b[0;34m,\u001b[0m \u001b[0mscoring\u001b[0m\u001b[0;34m,\u001b[0m \u001b[0;34m\"F1\"\u001b[0m\u001b[0;34m,\u001b[0m \u001b[0mdata_sm\u001b[0m\u001b[0;34m,\u001b[0m \u001b[0my_train_sm\u001b[0m\u001b[0;34m)\u001b[0m\u001b[0;34m\u001b[0m\u001b[0;34m\u001b[0m\u001b[0m\n\u001b[0m\u001b[1;32m     23\u001b[0m   \u001b[0mresults_all_combinations\u001b[0m\u001b[0;34m[\u001b[0m\u001b[0mcombination_name\u001b[0m\u001b[0;34m]\u001b[0m \u001b[0;34m=\u001b[0m \u001b[0mresults\u001b[0m\u001b[0;34m\u001b[0m\u001b[0;34m\u001b[0m\u001b[0m\n",
            "\u001b[0;32m<ipython-input-63-b2e28a27e067>\u001b[0m in \u001b[0;36mparametertuning\u001b[0;34m(Models, ModelParameters, n_splits, random_state, scoring, refit, X, Y)\u001b[0m\n\u001b[1;32m     61\u001b[0m         \u001b[0mrandomized_search_inner\u001b[0m\u001b[0;34m.\u001b[0m\u001b[0mfit\u001b[0m\u001b[0;34m(\u001b[0m\u001b[0mX\u001b[0m\u001b[0;34m,\u001b[0m \u001b[0mY\u001b[0m\u001b[0;34m)\u001b[0m\u001b[0;34m\u001b[0m\u001b[0;34m\u001b[0m\u001b[0m\n\u001b[1;32m     62\u001b[0m         \u001b[0mnested_score\u001b[0m \u001b[0;34m=\u001b[0m \u001b[0mcross_validate\u001b[0m\u001b[0;34m(\u001b[0m\u001b[0mrandomized_search_inner\u001b[0m\u001b[0;34m,\u001b[0m \u001b[0mX\u001b[0m\u001b[0;34m,\u001b[0m \u001b[0mY\u001b[0m\u001b[0;34m,\u001b[0m \u001b[0mcv\u001b[0m\u001b[0;34m=\u001b[0m\u001b[0mcv_outer\u001b[0m\u001b[0;34m)\u001b[0m\u001b[0;34m\u001b[0m\u001b[0;34m\u001b[0m\u001b[0m\n\u001b[0;32m---> 63\u001b[0;31m         \u001b[0mnested_scores\u001b[0m\u001b[0;34m[\u001b[0m\u001b[0mi\u001b[0m\u001b[0;34m]\u001b[0m \u001b[0;34m=\u001b[0m \u001b[0mnested_score\u001b[0m\u001b[0;34m.\u001b[0m\u001b[0mmean\u001b[0m\u001b[0;34m(\u001b[0m\u001b[0;34m)\u001b[0m\u001b[0;34m\u001b[0m\u001b[0;34m\u001b[0m\u001b[0m\n\u001b[0m\u001b[1;32m     64\u001b[0m \u001b[0;34m\u001b[0m\u001b[0m\n\u001b[1;32m     65\u001b[0m         \u001b[0;31m# # Results of grid search\u001b[0m\u001b[0;34m\u001b[0m\u001b[0;34m\u001b[0m\u001b[0m\n",
            "\u001b[0;31mAttributeError\u001b[0m: 'dict' object has no attribute 'mean'"
          ]
        }
      ]
    },
    {
      "cell_type": "code",
      "source": [
        "# Create visualization of results \n",
        "plt.close('all') #make sure you class all windows before plotting to prevent plotting in the same figure\n",
        "\n",
        "for combination_name, data in x_scaled_selected.items():\n",
        "\n",
        "  #Create all plots to show the relation between the scoring type and parameters for every combination\n",
        "  plot_knn(results_all_combinations[combination_name], scoring, combination_name)\n",
        "  # plot_svc(results_all_combinations[combination_name], scoring, combination_name)\n",
        "  # plot_randomforest(results_all_combinations[combination_name], scoring, combination_name)"
      ],
      "metadata": {
        "collapsed": true,
        "id": "srThEOW1NPv3"
      },
      "execution_count": null,
      "outputs": []
    },
    {
      "cell_type": "code",
      "source": [
        "# Create table with results for every combination\n",
        "for combination_name, data in x_scaled_selected.items():\n",
        "  create_table_of_results(results_all_combinations, combination_name)"
      ],
      "metadata": {
        "colab": {
          "base_uri": "https://localhost:8080/",
          "height": 793
        },
        "id": "S3yr30PFNSgX",
        "outputId": "bd13e2fd-dea4-46de-b925-b92bbc36fa43"
      },
      "execution_count": null,
      "outputs": [
        {
          "output_type": "stream",
          "name": "stdout",
          "text": [
            "Table of results for combination x_standard_PCA_ffs\n"
          ]
        },
        {
          "output_type": "display_data",
          "data": {
            "text/plain": [
              "<pandas.io.formats.style.Styler at 0x7fd1eeaf2190>"
            ],
            "text/html": [
              "<style type=\"text/css\">\n",
              "</style>\n",
              "<table id=\"T_d5a1a\" class=\"dataframe\">\n",
              "  <thead>\n",
              "    <tr>\n",
              "      <th id=\"T_d5a1a_level0_col0\" class=\"col_heading level0 col0\" >ModelName</th>\n",
              "      <th id=\"T_d5a1a_level0_col1\" class=\"col_heading level0 col1\" >F1</th>\n",
              "      <th id=\"T_d5a1a_level0_col2\" class=\"col_heading level0 col2\" >Average Precision</th>\n",
              "      <th id=\"T_d5a1a_level0_col3\" class=\"col_heading level0 col3\" >BestEstimator</th>\n",
              "      <th id=\"T_d5a1a_level0_col4\" class=\"col_heading level0 col4\" >Mean accuracy of BestEstimator</th>\n",
              "    </tr>\n",
              "  </thead>\n",
              "  <tbody>\n",
              "    <tr>\n",
              "      <td id=\"T_d5a1a_row0_col0\" class=\"data row0 col0\" >KNeighborsClassifier</td>\n",
              "      <td id=\"T_d5a1a_row0_col1\" class=\"data row0 col1\" >0.743729</td>\n",
              "      <td id=\"T_d5a1a_row0_col2\" class=\"data row0 col2\" >0.680294</td>\n",
              "      <td id=\"T_d5a1a_row0_col3\" class=\"data row0 col3\" >KNeighborsClassifier(n_neighbors=91, weights='distance')</td>\n",
              "      <td id=\"T_d5a1a_row0_col4\" class=\"data row0 col4\" >0.745842</td>\n",
              "    </tr>\n",
              "    <tr>\n",
              "      <td id=\"T_d5a1a_row1_col0\" class=\"data row1 col0\" >RandomForestClassifier</td>\n",
              "      <td id=\"T_d5a1a_row1_col1\" class=\"data row1 col1\" >0.782452</td>\n",
              "      <td id=\"T_d5a1a_row1_col2\" class=\"data row1 col2\" >0.731844</td>\n",
              "      <td id=\"T_d5a1a_row1_col3\" class=\"data row1 col3\" >RandomForestClassifier(max_depth=12, min_samples_leaf=10, n_estimators=6)</td>\n",
              "      <td id=\"T_d5a1a_row1_col4\" class=\"data row1 col4\" >0.786344</td>\n",
              "    </tr>\n",
              "    <tr>\n",
              "      <td id=\"T_d5a1a_row2_col0\" class=\"data row2 col0\" >SVC</td>\n",
              "      <td id=\"T_d5a1a_row2_col1\" class=\"data row2 col1\" >0.854237</td>\n",
              "      <td id=\"T_d5a1a_row2_col2\" class=\"data row2 col2\" >0.792222</td>\n",
              "      <td id=\"T_d5a1a_row2_col3\" class=\"data row2 col3\" >SVC(C=100)</td>\n",
              "      <td id=\"T_d5a1a_row2_col4\" class=\"data row2 col4\" >0.844362</td>\n",
              "    </tr>\n",
              "    <tr>\n",
              "      <td id=\"T_d5a1a_row3_col0\" class=\"data row3 col0\" >MLP</td>\n",
              "      <td id=\"T_d5a1a_row3_col1\" class=\"data row3 col1\" >0.803613</td>\n",
              "      <td id=\"T_d5a1a_row3_col2\" class=\"data row3 col2\" >0.735843</td>\n",
              "      <td id=\"T_d5a1a_row3_col3\" class=\"data row3 col3\" >MLPClassifier(activation='tanh', hidden_layer_sizes=610, max_iter=100,\n",
              "              solver='sgd')</td>\n",
              "      <td id=\"T_d5a1a_row3_col4\" class=\"data row3 col4\" >0.800169</td>\n",
              "    </tr>\n",
              "  </tbody>\n",
              "</table>\n"
            ]
          },
          "metadata": {}
        },
        {
          "output_type": "stream",
          "name": "stdout",
          "text": [
            "\n",
            "Table of results for combination x_robust_PCA_ffs\n"
          ]
        },
        {
          "output_type": "display_data",
          "data": {
            "text/plain": [
              "<pandas.io.formats.style.Styler at 0x7fd1eeaf2190>"
            ],
            "text/html": [
              "<style type=\"text/css\">\n",
              "</style>\n",
              "<table id=\"T_4b2d0\" class=\"dataframe\">\n",
              "  <thead>\n",
              "    <tr>\n",
              "      <th id=\"T_4b2d0_level0_col0\" class=\"col_heading level0 col0\" >ModelName</th>\n",
              "      <th id=\"T_4b2d0_level0_col1\" class=\"col_heading level0 col1\" >F1</th>\n",
              "      <th id=\"T_4b2d0_level0_col2\" class=\"col_heading level0 col2\" >Average Precision</th>\n",
              "      <th id=\"T_4b2d0_level0_col3\" class=\"col_heading level0 col3\" >BestEstimator</th>\n",
              "      <th id=\"T_4b2d0_level0_col4\" class=\"col_heading level0 col4\" >Mean accuracy of BestEstimator</th>\n",
              "    </tr>\n",
              "  </thead>\n",
              "  <tbody>\n",
              "    <tr>\n",
              "      <td id=\"T_4b2d0_row0_col0\" class=\"data row0 col0\" >KNeighborsClassifier</td>\n",
              "      <td id=\"T_4b2d0_row0_col1\" class=\"data row0 col1\" >0.730352</td>\n",
              "      <td id=\"T_4b2d0_row0_col2\" class=\"data row0 col2\" >0.658058</td>\n",
              "      <td id=\"T_4b2d0_row0_col3\" class=\"data row0 col3\" >KNeighborsClassifier(n_neighbors=147, weights='distance')</td>\n",
              "      <td id=\"T_4b2d0_row0_col4\" class=\"data row0 col4\" >0.686019</td>\n",
              "    </tr>\n",
              "    <tr>\n",
              "      <td id=\"T_4b2d0_row1_col0\" class=\"data row1 col0\" >RandomForestClassifier</td>\n",
              "      <td id=\"T_4b2d0_row1_col1\" class=\"data row1 col1\" >0.807045</td>\n",
              "      <td id=\"T_4b2d0_row1_col2\" class=\"data row1 col2\" >0.751177</td>\n",
              "      <td id=\"T_4b2d0_row1_col3\" class=\"data row1 col3\" >RandomForestClassifier(max_depth=14, min_samples_leaf=3, n_estimators=9)</td>\n",
              "      <td id=\"T_4b2d0_row1_col4\" class=\"data row1 col4\" >0.810307</td>\n",
              "    </tr>\n",
              "    <tr>\n",
              "      <td id=\"T_4b2d0_row2_col0\" class=\"data row2 col0\" >SVC</td>\n",
              "      <td id=\"T_4b2d0_row2_col1\" class=\"data row2 col1\" >0.740910</td>\n",
              "      <td id=\"T_4b2d0_row2_col2\" class=\"data row2 col2\" >0.696651</td>\n",
              "      <td id=\"T_4b2d0_row2_col3\" class=\"data row2 col3\" >SVC(C=100, degree=2)</td>\n",
              "      <td id=\"T_4b2d0_row2_col4\" class=\"data row2 col4\" >0.744958</td>\n",
              "    </tr>\n",
              "    <tr>\n",
              "      <td id=\"T_4b2d0_row3_col0\" class=\"data row3 col0\" >MLP</td>\n",
              "      <td id=\"T_4b2d0_row3_col1\" class=\"data row3 col1\" >0.766292</td>\n",
              "      <td id=\"T_4b2d0_row3_col2\" class=\"data row3 col2\" >0.700082</td>\n",
              "      <td id=\"T_4b2d0_row3_col3\" class=\"data row3 col3\" >MLPClassifier(activation='logistic', hidden_layer_sizes=610,\n",
              "              learning_rate='adaptive', max_iter=100)</td>\n",
              "      <td id=\"T_4b2d0_row3_col4\" class=\"data row3 col4\" >0.767074</td>\n",
              "    </tr>\n",
              "  </tbody>\n",
              "</table>\n"
            ]
          },
          "metadata": {}
        },
        {
          "output_type": "stream",
          "name": "stdout",
          "text": [
            "\n",
            "Table of results for combination x_standard_ffs\n"
          ]
        },
        {
          "output_type": "display_data",
          "data": {
            "text/plain": [
              "<pandas.io.formats.style.Styler at 0x7fd1eeaf2190>"
            ],
            "text/html": [
              "<style type=\"text/css\">\n",
              "</style>\n",
              "<table id=\"T_935d9\" class=\"dataframe\">\n",
              "  <thead>\n",
              "    <tr>\n",
              "      <th id=\"T_935d9_level0_col0\" class=\"col_heading level0 col0\" >ModelName</th>\n",
              "      <th id=\"T_935d9_level0_col1\" class=\"col_heading level0 col1\" >F1</th>\n",
              "      <th id=\"T_935d9_level0_col2\" class=\"col_heading level0 col2\" >Average Precision</th>\n",
              "      <th id=\"T_935d9_level0_col3\" class=\"col_heading level0 col3\" >BestEstimator</th>\n",
              "      <th id=\"T_935d9_level0_col4\" class=\"col_heading level0 col4\" >Mean accuracy of BestEstimator</th>\n",
              "    </tr>\n",
              "  </thead>\n",
              "  <tbody>\n",
              "    <tr>\n",
              "      <td id=\"T_935d9_row0_col0\" class=\"data row0 col0\" >KNeighborsClassifier</td>\n",
              "      <td id=\"T_935d9_row0_col1\" class=\"data row0 col1\" >0.798229</td>\n",
              "      <td id=\"T_935d9_row0_col2\" class=\"data row0 col2\" >0.709163</td>\n",
              "      <td id=\"T_935d9_row0_col3\" class=\"data row0 col3\" >KNeighborsClassifier(n_neighbors=28, weights='distance')</td>\n",
              "      <td id=\"T_935d9_row0_col4\" class=\"data row0 col4\" >0.786361</td>\n",
              "    </tr>\n",
              "    <tr>\n",
              "      <td id=\"T_935d9_row1_col0\" class=\"data row1 col0\" >RandomForestClassifier</td>\n",
              "      <td id=\"T_935d9_row1_col1\" class=\"data row1 col1\" >0.779544</td>\n",
              "      <td id=\"T_935d9_row1_col2\" class=\"data row1 col2\" >0.717434</td>\n",
              "      <td id=\"T_935d9_row1_col3\" class=\"data row1 col3\" >RandomForestClassifier(max_depth=11, min_samples_leaf=4, n_estimators=6)</td>\n",
              "      <td id=\"T_935d9_row1_col4\" class=\"data row1 col4\" >0.778108</td>\n",
              "    </tr>\n",
              "    <tr>\n",
              "      <td id=\"T_935d9_row2_col0\" class=\"data row2 col0\" >SVC</td>\n",
              "      <td id=\"T_935d9_row2_col1\" class=\"data row2 col1\" >0.730009</td>\n",
              "      <td id=\"T_935d9_row2_col2\" class=\"data row2 col2\" >0.703449</td>\n",
              "      <td id=\"T_935d9_row2_col3\" class=\"data row2 col3\" >SVC(C=100, degree=2)</td>\n",
              "      <td id=\"T_935d9_row2_col4\" class=\"data row2 col4\" >0.756898</td>\n",
              "    </tr>\n",
              "    <tr>\n",
              "      <td id=\"T_935d9_row3_col0\" class=\"data row3 col0\" >MLP</td>\n",
              "      <td id=\"T_935d9_row3_col1\" class=\"data row3 col1\" >0.661240</td>\n",
              "      <td id=\"T_935d9_row3_col2\" class=\"data row3 col2\" >0.645157</td>\n",
              "      <td id=\"T_935d9_row3_col3\" class=\"data row3 col3\" >MLPClassifier(hidden_layer_sizes=10, max_iter=100)</td>\n",
              "      <td id=\"T_935d9_row3_col4\" class=\"data row3 col4\" >0.691506</td>\n",
              "    </tr>\n",
              "  </tbody>\n",
              "</table>\n"
            ]
          },
          "metadata": {}
        },
        {
          "output_type": "stream",
          "name": "stdout",
          "text": [
            "\n",
            "Table of results for combination x_robust_ffs\n"
          ]
        },
        {
          "output_type": "display_data",
          "data": {
            "text/plain": [
              "<pandas.io.formats.style.Styler at 0x7fd1eee09490>"
            ],
            "text/html": [
              "<style type=\"text/css\">\n",
              "</style>\n",
              "<table id=\"T_12a42\" class=\"dataframe\">\n",
              "  <thead>\n",
              "    <tr>\n",
              "      <th id=\"T_12a42_level0_col0\" class=\"col_heading level0 col0\" >ModelName</th>\n",
              "      <th id=\"T_12a42_level0_col1\" class=\"col_heading level0 col1\" >F1</th>\n",
              "      <th id=\"T_12a42_level0_col2\" class=\"col_heading level0 col2\" >Average Precision</th>\n",
              "      <th id=\"T_12a42_level0_col3\" class=\"col_heading level0 col3\" >BestEstimator</th>\n",
              "      <th id=\"T_12a42_level0_col4\" class=\"col_heading level0 col4\" >Mean accuracy of BestEstimator</th>\n",
              "    </tr>\n",
              "  </thead>\n",
              "  <tbody>\n",
              "    <tr>\n",
              "      <td id=\"T_12a42_row0_col0\" class=\"data row0 col0\" >KNeighborsClassifier</td>\n",
              "      <td id=\"T_12a42_row0_col1\" class=\"data row0 col1\" >0.769917</td>\n",
              "      <td id=\"T_12a42_row0_col2\" class=\"data row0 col2\" >0.725659</td>\n",
              "      <td id=\"T_12a42_row0_col3\" class=\"data row0 col3\" >KNeighborsClassifier(n_neighbors=105, weights='distance')</td>\n",
              "      <td id=\"T_12a42_row0_col4\" class=\"data row0 col4\" >0.787266</td>\n",
              "    </tr>\n",
              "    <tr>\n",
              "      <td id=\"T_12a42_row1_col0\" class=\"data row1 col0\" >RandomForestClassifier</td>\n",
              "      <td id=\"T_12a42_row1_col1\" class=\"data row1 col1\" >0.787121</td>\n",
              "      <td id=\"T_12a42_row1_col2\" class=\"data row1 col2\" >0.724102</td>\n",
              "      <td id=\"T_12a42_row1_col3\" class=\"data row1 col3\" >RandomForestClassifier(max_depth=19, min_samples_leaf=4, n_estimators=6)</td>\n",
              "      <td id=\"T_12a42_row1_col4\" class=\"data row1 col4\" >0.814907</td>\n",
              "    </tr>\n",
              "    <tr>\n",
              "      <td id=\"T_12a42_row2_col0\" class=\"data row2 col0\" >SVC</td>\n",
              "      <td id=\"T_12a42_row2_col1\" class=\"data row2 col1\" >0.750088</td>\n",
              "      <td id=\"T_12a42_row2_col2\" class=\"data row2 col2\" >0.725398</td>\n",
              "      <td id=\"T_12a42_row2_col3\" class=\"data row2 col3\" >SVC(C=100)</td>\n",
              "      <td id=\"T_12a42_row2_col4\" class=\"data row2 col4\" >0.769746</td>\n",
              "    </tr>\n",
              "    <tr>\n",
              "      <td id=\"T_12a42_row3_col0\" class=\"data row3 col0\" >MLP</td>\n",
              "      <td id=\"T_12a42_row3_col1\" class=\"data row3 col1\" >0.705846</td>\n",
              "      <td id=\"T_12a42_row3_col2\" class=\"data row3 col2\" >0.673597</td>\n",
              "      <td id=\"T_12a42_row3_col3\" class=\"data row3 col3\" >MLPClassifier(hidden_layer_sizes=100, max_iter=100, solver='sgd')</td>\n",
              "      <td id=\"T_12a42_row3_col4\" class=\"data row3 col4\" >0.719139</td>\n",
              "    </tr>\n",
              "  </tbody>\n",
              "</table>\n"
            ]
          },
          "metadata": {}
        },
        {
          "output_type": "stream",
          "name": "stdout",
          "text": [
            "\n"
          ]
        }
      ]
    },
    {
      "cell_type": "markdown",
      "source": [
        "## 5. The final model\n",
        "After the previous steps we determined the best combination of scaling, PCA, feature selection and classification for our final model. Underneath we wrote the final pipeline that returns the mean accuracy of the model on the test data."
      ],
      "metadata": {
        "id": "sqnvS2MX2ozi"
      }
    },
    {
      "cell_type": "code",
      "source": [
        "# DIT IS EEN OPZETJE, MAAR GEEFT NOG LAGE SCORES\n",
        "# Write final pipeline with chosen combinations\n",
        "def final_pipeline(x_train, y_train, x_test, y_test):\n",
        "\n",
        "  # Determine steps of the pipeline\n",
        "  pipe = Pipeline([(\"impNaN\", SimpleImputer(missing_values = np.nan, strategy='mean', copy = False)), \n",
        "                   (\"imp0\", SimpleImputer(missing_values = np.nan, strategy='mean', copy = False)), \n",
        "                   (\"scaler\", StandardScaler()), \n",
        "                   (\"pca\", PCA(n_components = 0.95)),\n",
        "                   (\"selector\", SelectKBest(f_classif, k=10)), \n",
        "                   (\"sm\", SMOTE(random_state=None)), \n",
        "                   (\"SVC\", results_all_combinations[\"x_standard_PCA_ffs\"][\"SVC\"][\"BestEstimator\"]) #But here the name of the model that performs best\n",
        "                   ])\n",
        "\n",
        "  # Visualize the pipeline\n",
        "  set_config(display = \"diagram\")\n",
        "  pipe\n",
        "\n",
        "  # Fit the pipeline on the training data \n",
        "  pipe.fit(x_train, y_train)\n",
        "\n",
        "  # Compute the mean accuracy of the model on the test data\n",
        "  y_pred= pipe.predict(x_test)\n",
        "  score = f1_score(y_test, y_pred)\n",
        "\n",
        "  return score\n",
        "\n",
        "#Execute pipeline to get the mean accuracy of the final model on the test data\n",
        "score= final_pipeline(x_train, y_train, x_test, y_test)\n",
        "print(f\"The f1 score of the final model on the test set is {score}\")\n"
      ],
      "metadata": {
        "id": "QAaZY7vY2vJg",
        "colab": {
          "base_uri": "https://localhost:8080/"
        },
        "outputId": "1e9b2320-23ce-4a4f-a8f7-3eeacb47bbba"
      },
      "execution_count": null,
      "outputs": [
        {
          "output_type": "stream",
          "name": "stdout",
          "text": [
            "The f1 score of the final model on the test set is 0.3561643835616438\n"
          ]
        }
      ]
    }
  ],
  "metadata": {
    "colab": {
      "name": "assignment.ipynb",
      "provenance": []
    },
    "kernelspec": {
      "display_name": "Python 3",
      "language": "python",
      "name": "python3"
    },
    "language_info": {
      "codemirror_mode": {
        "name": "ipython",
        "version": 3
      },
      "file_extension": ".py",
      "mimetype": "text/x-python",
      "name": "python",
      "nbconvert_exporter": "python",
      "pygments_lexer": "ipython3",
      "version": "3.8.5"
    }
  },
  "nbformat": 4,
  "nbformat_minor": 0
}
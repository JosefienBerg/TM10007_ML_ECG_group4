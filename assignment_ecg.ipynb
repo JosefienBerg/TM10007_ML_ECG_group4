{
  "cells": [
    {
      "cell_type": "markdown",
      "metadata": {
        "id": "view-in-github",
        "colab_type": "text"
      },
      "source": [
        "<a href=\"https://colab.research.google.com/github/JosefienBerg/TM10007_ML_ECG_group4/blob/feature-scaling/assignment_ecg.ipynb\" target=\"_parent\"><img src=\"https://colab.research.google.com/assets/colab-badge.svg\" alt=\"Open In Colab\"/></a>"
      ]
    },
    {
      "cell_type": "markdown",
      "metadata": {
        "id": "7SXpaKwwGe5x"
      },
      "source": [
        "# TM10007 Group 4 -- ECG Data"
      ]
    },
    {
      "cell_type": "markdown",
      "source": [
        "Hallo tekst"
      ],
      "metadata": {
        "id": "u0jPpiE5pyEP"
      }
    },
    {
      "cell_type": "code",
      "source": [
        "# Loading packages\n",
        "import zipfile\n",
        "import os\n",
        "import pandas as pd\n",
        "import numpy as np\n",
        "import sklearn as sk"
      ],
      "metadata": {
        "id": "f-5Aw7sQpsDL"
      },
      "execution_count": 1,
      "outputs": []
    },
    {
      "cell_type": "markdown",
      "metadata": {
        "id": "5EG78VSHfhNi"
      },
      "source": [
        "## 1. Data loading, cleaning and visualization\n",
        "\n",
        "Below we load the ECG data, convert it to a dataframe an clean the data.First we are going to start with loading the CS file into a dataframe"
      ]
    },
    {
      "cell_type": "code",
      "execution_count": 2,
      "metadata": {
        "id": "CiDn2Sk-VWqE",
        "outputId": "8c6e67dd-d783-481a-b79d-94e6b1f8c6de",
        "colab": {
          "base_uri": "https://localhost:8080/"
        },
        "collapsed": true
      },
      "outputs": [
        {
          "output_type": "stream",
          "name": "stdout",
          "text": [
            "Cloning into 'TM10007_ML_ECG_group4'...\n",
            "remote: Enumerating objects: 168, done.\u001b[K\n",
            "remote: Counting objects: 100% (86/86), done.\u001b[K\n",
            "remote: Compressing objects: 100% (50/50), done.\u001b[K\n",
            "remote: Total 168 (delta 52), reused 54 (delta 36), pack-reused 82\u001b[K\n",
            "Receiving objects: 100% (168/168), 68.20 MiB | 39.19 MiB/s, done.\n",
            "Resolving deltas: 100% (76/76), done.\n",
            "The number of samples: 827\n",
            "The number of columns: 9001\n",
            "            0_0         0_1         0_2        0_3        0_4         0_5  \\\n",
            "0     47.685046   48.416904   37.371002  61.604757  58.732738  213.067966   \n",
            "1    152.726718  297.353726  111.168880  25.419423  14.636085   24.609688   \n",
            "2      1.601260    3.882169   22.978997  21.673040   8.919484   18.329286   \n",
            "3      1.388947    3.052483    3.084103   4.627886  10.016196   15.020347   \n",
            "4      3.625561    3.728466    6.205367  17.722897   5.699401    9.024836   \n",
            "..          ...         ...         ...        ...        ...         ...   \n",
            "822   14.673713   13.879148   10.000083   8.337630   3.557302    8.910661   \n",
            "823    3.167367   13.771749    0.705951   0.349087   9.596407   14.721906   \n",
            "824    0.439357    8.700374   20.628752  19.379063  23.176646   25.308323   \n",
            "825    0.235515    4.074581    9.381945   9.621589  16.106126    8.376319   \n",
            "826    0.301328    2.012000    9.122957   7.332689   7.862709   10.139178   \n",
            "\n",
            "            0_6         0_7         0_8         0_9  ...    11_741    11_742  \\\n",
            "0    120.890451   40.100639   19.106303    6.043738  ...  0.078753  0.379885   \n",
            "1     49.533842  253.651571  483.852043  167.617409  ...  0.804160  0.809705   \n",
            "2     27.710604   23.350084   37.896254    8.331180  ...  0.156080  0.102070   \n",
            "3    139.823127   20.149108   10.393109    9.241921  ...  0.238274  0.096733   \n",
            "4     15.782812   33.336480   55.257804   19.139128  ...  0.056914  0.059116   \n",
            "..          ...         ...         ...         ...  ...       ...       ...   \n",
            "822   36.647388    5.127375    4.974610    3.649282  ...  0.024548  0.056174   \n",
            "823   48.008495  100.760159   33.764106   19.399167  ...  0.808183  0.728553   \n",
            "824  124.150929   37.162548   13.807592   14.244157  ...  0.103234  0.113550   \n",
            "825   42.678977   40.056677   17.450689    8.489811  ...  0.150481  0.073634   \n",
            "826    8.211888   98.975305    7.404045   12.253549  ...  0.189871  0.085630   \n",
            "\n",
            "       11_743    11_744    11_745    11_746    11_747    11_748    11_749  \\\n",
            "0    0.182930  0.231552  0.222432  0.154919  0.158616  0.269249  0.112248   \n",
            "1    0.830032  0.774368  0.798178  0.853519  0.827946  0.859936  0.742673   \n",
            "2    0.168276  0.120385  0.064254  0.077670  0.059857  0.098506  0.098288   \n",
            "3    0.030739  0.170214  0.052079  0.179360  0.226222  0.092000  0.192559   \n",
            "4    0.050098  0.152588  0.129712  0.047342  0.058446  0.141610  0.129477   \n",
            "..        ...       ...       ...       ...       ...       ...       ...   \n",
            "822  0.029438  0.169014  0.111257  0.058975  0.112644  0.155580  0.061931   \n",
            "823  0.743050  0.735316  0.724321  0.671816  0.714386  0.771741  0.757218   \n",
            "824  0.102557  0.131152  0.057736  0.061432  0.068036  0.159615  0.077114   \n",
            "825  0.104637  0.164451  0.055838  0.060012  0.057874  0.060548  0.116350   \n",
            "826  0.161162  0.141019  0.133023  0.073290  0.228413  0.114943  0.223285   \n",
            "\n",
            "     label  \n",
            "0        0  \n",
            "1        1  \n",
            "2        0  \n",
            "3        0  \n",
            "4        0  \n",
            "..     ...  \n",
            "822      0  \n",
            "823      0  \n",
            "824      0  \n",
            "825      0  \n",
            "826      1  \n",
            "\n",
            "[827 rows x 9001 columns]\n"
          ]
        }
      ],
      "source": [
        "# Load CSV file into dataframe\n",
        "!git clone https://github.com/JosefienBerg/TM10007_ML_ECG_group4.git\n",
        "\n",
        "with zipfile.ZipFile('/content/TM10007_ML_ECG_group4/ecg/ecg_data.zip', 'r') as zip_ref:\n",
        "    zip_ref.extractall('/content/TM10007_ML_ECG_group4/ecg')\n",
        "\n",
        "data = pd.read_csv('/content/TM10007_ML_ECG_group4/ecg/ecg_data.csv', index_col=0)\n",
        "\n",
        "print(f'The number of samples: {len(data.index)}')\n",
        "print(f'The number of columns: {len(data.columns)}')\n",
        "print(data)"
      ]
    },
    {
      "cell_type": "markdown",
      "source": [
        "Now we are going to test if there is data missing in our dataset. We conclude that NaNs are missing data and if an entire row or column has zero's, this is also seen as missing data."
      ],
      "metadata": {
        "id": "Fzxx78XNgSnF"
      }
    },
    {
      "cell_type": "code",
      "source": [
        "# Checking if there are any NaN or None values in the dataset\n",
        "print(f'Are there any NaN or None values in the dataset? = '+ str(data.isnull().values.any()))"
      ],
      "metadata": {
        "id": "nJ4-hqtyf0DU",
        "outputId": "64c33828-fd9d-4605-9467-625ca4039607",
        "colab": {
          "base_uri": "https://localhost:8080/"
        }
      },
      "execution_count": 3,
      "outputs": [
        {
          "output_type": "stream",
          "name": "stdout",
          "text": [
            "Are there any NaN or None values in the dataset? = False\n"
          ]
        }
      ]
    },
    {
      "cell_type": "code",
      "source": [
        "# Test dataset for missing rows/columns\n",
        "\n",
        "# Columns\n",
        "columnswithzeros = []\n",
        "for (colname, colval) in data.iteritems():\n",
        "  if (colval==0).all() == True:\n",
        "    print(f'All values are zero in column {colname}')\n",
        "    columnswithzeros.append(colname)\n",
        "\n",
        "if len(columnswithzeros) == 0:\n",
        "  print('There are no columns with only zeros')\n",
        "  \n",
        "# Rows\n",
        "rowswithzeros = []\n",
        "for (index, rowval) in data.iterrows():\n",
        "  if (rowval==0).all() == True: \n",
        "    print(f'All values are zero in row {index}')\n",
        "    rowswithzeros.append(index)\n",
        "\n",
        "if len(rowswithzeros) == 0:\n",
        "  print('There are no rows with only zeros')"
      ],
      "metadata": {
        "id": "nZLKTGMpmxOc",
        "collapsed": true,
        "outputId": "f7be1ea2-93f4-4145-f7f7-fc2f2375b38e",
        "colab": {
          "base_uri": "https://localhost:8080/"
        }
      },
      "execution_count": 4,
      "outputs": [
        {
          "output_type": "stream",
          "name": "stdout",
          "text": [
            "There are no columns with only zeros\n",
            "There are no rows with only zeros\n"
          ]
        }
      ]
    },
    {
      "cell_type": "code",
      "source": [
        "# Cleaning dataset"
      ],
      "metadata": {
        "id": "T-mrfMKCm1iX"
      },
      "execution_count": null,
      "outputs": []
    },
    {
      "cell_type": "markdown",
      "source": [
        "Visualisation of the datasset"
      ],
      "metadata": {
        "id": "OaN6z_VynlYI"
      }
    },
    {
      "cell_type": "code",
      "source": [
        "# How many patients have a normal or abnormal ECG?\n",
        "count0= (data['label'] == 0).sum()\n",
        "count1= (data['label'] == 1).sum()\n",
        "print(f'There are {count0} patients with label 0')\n",
        "print(f'There are {count1} patients with label 1')\n",
        "\n",
        "# Since the majority of patients has no abnormalities we can conclude that label 0 is normal and label 1 is abnormal"
      ],
      "metadata": {
        "id": "6uzs9dYjnrHt",
        "outputId": "8a2b0d58-566e-452e-cb28-e8531754e27f",
        "colab": {
          "base_uri": "https://localhost:8080/"
        }
      },
      "execution_count": 5,
      "outputs": [
        {
          "output_type": "stream",
          "name": "stdout",
          "text": [
            "There are 681 patients with label 0\n",
            "There are 146 patients with label 1\n"
          ]
        }
      ]
    },
    {
      "cell_type": "code",
      "source": [
        "# Visualisation of feature space\n"
      ],
      "metadata": {
        "id": "r6vBeZo2nnlX"
      },
      "execution_count": null,
      "outputs": []
    },
    {
      "cell_type": "markdown",
      "source": [
        "## 2. Creating the experimental setup\n",
        "Below we split the dataset in test data and training data. Then we further split the trainingdata in order to make different training and validation sets for our different classifiers"
      ],
      "metadata": {
        "id": "hbyr7EH1fUE3"
      }
    },
    {
      "cell_type": "code",
      "source": [
        "# Initial split\n",
        "\n",
        "# packages \n",
        "from sklearn.model_selection import train_test_split\n",
        "\n",
        "# split the whole data set in a training and test set\n",
        "col = \"label\"\n",
        "x_train, x_test, y_train, y_test = train_test_split (data.loc[:, data.columns !=col], data.loc[:, \"label\"].values, train_size = 0.8, random_state = 42) \n",
        "print(x_train)"
      ],
      "metadata": {
        "id": "nIf-5Y4zm3ND",
        "outputId": "e340586e-0276-4a1b-9df8-de4db9845e51",
        "colab": {
          "base_uri": "https://localhost:8080/"
        },
        "collapsed": true
      },
      "execution_count": 6,
      "outputs": [
        {
          "output_type": "stream",
          "name": "stdout",
          "text": [
            "             0_0         0_1         0_2         0_3         0_4         0_5  \\\n",
            "529    26.094388  145.213783  247.539256  304.761407  164.956864  119.939717   \n",
            "596     5.569268    8.787120    3.221415    3.027610    1.661665   10.362930   \n",
            "396     7.476934   20.834738    8.550020    9.199971    8.882476    8.734514   \n",
            "814     9.161071    1.906232    5.714063   15.832251   24.006140   32.987560   \n",
            "723     1.925831    1.688467    7.624057   11.630483   12.237969    3.831897   \n",
            "..           ...         ...         ...         ...         ...         ...   \n",
            "71   1072.494116   82.493852   46.458215   87.448854  108.303842  110.689626   \n",
            "106     2.411066    3.573233    3.611470    1.462549   23.036692   43.618778   \n",
            "270    16.049135   14.823699   16.312268    7.789727   30.994297   93.770550   \n",
            "435  1103.484470   49.176909    7.973782    9.150286    9.992629    4.018226   \n",
            "102  1706.885360  260.031343   51.262493   37.922200   29.359422   24.076905   \n",
            "\n",
            "            0_6         0_7        0_8        0_9  ...    11_740    11_741  \\\n",
            "529  155.305087   60.062123  35.551505  37.854127  ...  0.096699  0.191185   \n",
            "596   45.671545   14.068674   8.998026  10.941943  ...  0.160000  0.218476   \n",
            "396  140.751848    3.563876  14.131805   1.664407  ...  0.049677  0.076321   \n",
            "814  109.734617  105.105028  33.336325  27.044409  ...  1.104178  1.047448   \n",
            "723    8.569189    9.984596  56.813362  49.304211  ...  0.264992  0.184867   \n",
            "..          ...         ...        ...        ...  ...       ...       ...   \n",
            "71    64.892998   64.876369  53.307615  49.530203  ...  0.208585  0.083196   \n",
            "106  130.232076   48.212765  38.255291  37.450607  ...  0.101675  0.161461   \n",
            "270   56.553621   23.568068  20.675332  16.694771  ...  0.084432  0.014858   \n",
            "435    8.307060    8.479871  43.940321   7.406400  ...  0.162286  0.086348   \n",
            "102   31.224562   21.435916  17.830642  18.582996  ...  1.712630  1.582988   \n",
            "\n",
            "       11_742    11_743    11_744    11_745    11_746    11_747    11_748  \\\n",
            "529  0.086526  0.049998  0.172213  0.143540  0.145982  0.087874  0.066739   \n",
            "596  0.282899  0.108791  0.268558  0.161723  0.296139  0.047315  0.282714   \n",
            "396  0.023853  0.154797  0.058170  0.065524  0.084571  0.017194  0.111850   \n",
            "814  1.174476  1.189422  1.123544  1.108379  1.180018  1.094337  1.159521   \n",
            "723  0.131818  0.077136  0.052233  0.102371  0.008237  0.037854  0.103027   \n",
            "..        ...       ...       ...       ...       ...       ...       ...   \n",
            "71   0.168840  0.190004  0.192120  0.224800  0.174724  0.287928  0.220868   \n",
            "106  0.177235  0.148189  0.172537  0.148505  0.229939  0.096201  0.216236   \n",
            "270  0.138843  0.102196  0.115055  0.052760  0.098323  0.045765  0.108274   \n",
            "435  0.155027  0.095321  0.129095  0.040639  0.099314  0.093607  0.062304   \n",
            "102  1.674516  1.680033  1.634996  1.668244  1.709489  1.580146  1.560198   \n",
            "\n",
            "       11_749  \n",
            "529  0.071145  \n",
            "596  0.204607  \n",
            "396  0.027019  \n",
            "814  1.089909  \n",
            "723  0.039383  \n",
            "..        ...  \n",
            "71   0.250343  \n",
            "106  0.261464  \n",
            "270  0.082566  \n",
            "435  0.168761  \n",
            "102  1.540232  \n",
            "\n",
            "[661 rows x 9000 columns]\n"
          ]
        }
      ]
    },
    {
      "cell_type": "markdown",
      "source": [
        "## 3. Feature scaling"
      ],
      "metadata": {
        "id": "WIucopYVnYBI"
      }
    },
    {
      "cell_type": "markdown",
      "source": [
        "There are multiple ways to scale features. Since the feature distribution is unclear, we will use normalization."
      ],
      "metadata": {
        "id": "qYnQ0Ml9oA1G"
      }
    },
    {
      "cell_type": "code",
      "source": [
        "summary_stats = x_train.describe()\n",
        "print(summary_stats)"
      ],
      "metadata": {
        "id": "b1WgghzqomSs",
        "outputId": "aeb1e465-6349-4b58-cc17-7ea2c33c82ed",
        "colab": {
          "base_uri": "https://localhost:8080/"
        }
      },
      "execution_count": 12,
      "outputs": [
        {
          "output_type": "stream",
          "name": "stdout",
          "text": [
            "               0_0          0_1         0_2         0_3          0_4  \\\n",
            "count   661.000000   661.000000  661.000000  661.000000   661.000000   \n",
            "mean    473.545787    68.219735   40.107831   30.223831    32.912681   \n",
            "std    1090.597625   183.150669   82.932772   56.989313    58.226109   \n",
            "min       0.031717     0.338026    0.374062    0.392388     0.442473   \n",
            "25%       4.048258     6.697330    7.502202    7.973962     9.699800   \n",
            "50%      11.301568    14.319638   16.019461   15.585303    18.526251   \n",
            "75%     414.437620    47.007877   36.407946   29.570521    34.987714   \n",
            "max    9510.877805  2022.415412  963.283307  776.631173  1016.707977   \n",
            "\n",
            "              0_5          0_6         0_7         0_8         0_9  ...  \\\n",
            "count  661.000000   661.000000  661.000000  661.000000  661.000000  ...   \n",
            "mean    42.555519    54.601058   38.398261   27.756282   22.688850  ...   \n",
            "std     46.396159    61.963314   52.542619   41.189322   36.309774  ...   \n",
            "min      0.468230     0.291254    0.181994    0.168997    0.732216  ...   \n",
            "25%     13.513050    17.151425   11.714197    8.290047    7.268737  ...   \n",
            "50%     26.475948    39.914146   24.261486   15.910253   13.764587  ...   \n",
            "75%     53.298597    77.536913   48.212765   30.232692   25.157698  ...   \n",
            "max    443.762983  1051.557893  775.236262  483.852043  548.180243  ...   \n",
            "\n",
            "           11_740      11_741      11_742      11_743      11_744      11_745  \\\n",
            "count  661.000000  661.000000  661.000000  661.000000  661.000000  661.000000   \n",
            "mean     0.257628    0.256989    0.260101    0.261333    0.258008    0.259235   \n",
            "std      0.466041    0.492337    0.453205    0.485969    0.523492    0.561868   \n",
            "min      0.000000    0.000000    0.000000    0.000000    0.000000    0.000000   \n",
            "25%      0.083260    0.077778    0.085630    0.083037    0.077072    0.084123   \n",
            "50%      0.142454    0.140854    0.148017    0.139903    0.139145    0.132906   \n",
            "75%      0.254538    0.242179    0.261747    0.250637    0.241596    0.242516   \n",
            "max      6.808234    7.650954    8.154244    8.203337    8.772557    8.889082   \n",
            "\n",
            "           11_746      11_747      11_748      11_749  \n",
            "count  661.000000  661.000000  661.000000  661.000000  \n",
            "mean     0.258205    0.251576    0.259956    0.258827  \n",
            "std      0.473904    0.472443    0.533672    0.534501  \n",
            "min      0.000000    0.000000    0.000000    0.000000  \n",
            "25%      0.084571    0.079911    0.074682    0.078336  \n",
            "50%      0.141514    0.137632    0.141386    0.132081  \n",
            "75%      0.260533    0.253220    0.249928    0.244466  \n",
            "max      9.048367    9.013666    9.058323    9.035147  \n",
            "\n",
            "[8 rows x 9000 columns]\n"
          ]
        }
      ]
    },
    {
      "cell_type": "code",
      "source": [
        "import numpy as np\n",
        "import pandas as pd\n",
        "\n",
        "from sklearn.preprocessing import StandardScaler\n",
        "from sklearn.preprocessing import MinMaxScaler\n",
        "from sklearn.preprocessing import RobustScaler\n",
        "\n",
        "# # 1. Standardization of the data\n",
        "# scaler = StandardScaler()\n",
        "# x_scaled = scaler.fit_transform(x_train)\n",
        "\n",
        "# 2. Min-max scaling\n",
        "scaler = MinMaxScaler()\n",
        "x_scaled = scaler.fit_transform(x_train)\n",
        "\n",
        "# # 3. Robust scaling\n",
        "# scaler = RobustScaler()\n",
        "# x_scaled = scaler.fit_transform(x_train)\n",
        "\n",
        "print(x_scaled.round(2))\n",
        "print(type(x_scaled))\n",
        "\n",
        "# # Provides information on scaled data\n",
        "# df_x_scaled = pd.DataFrame(x_scaled)\n",
        "# summary_stats = df_x_scaled.describe()\n",
        "# print(summary_stats)"
      ],
      "metadata": {
        "id": "xULQ5q4Nj3vM",
        "outputId": "3dedc843-181a-459d-c21e-d11596c8d432",
        "colab": {
          "base_uri": "https://localhost:8080/"
        }
      },
      "execution_count": 20,
      "outputs": [
        {
          "output_type": "stream",
          "name": "stdout",
          "text": [
            "[[0.   0.07 0.26 ... 0.01 0.01 0.01]\n",
            " [0.   0.   0.   ... 0.01 0.03 0.02]\n",
            " [0.   0.01 0.01 ... 0.   0.01 0.  ]\n",
            " ...\n",
            " [0.   0.01 0.02 ... 0.01 0.01 0.01]\n",
            " [0.12 0.02 0.01 ... 0.01 0.01 0.02]\n",
            " [0.18 0.13 0.05 ... 0.18 0.17 0.17]]\n",
            "<class 'numpy.ndarray'>\n"
          ]
        }
      ]
    },
    {
      "cell_type": "markdown",
      "source": [
        "Hallo tekst"
      ],
      "metadata": {
        "id": "J9t4kREtoB0a"
      }
    },
    {
      "cell_type": "code",
      "source": [
        "# Blokje 2"
      ],
      "metadata": {
        "id": "nVCz7FgOnglf"
      },
      "execution_count": null,
      "outputs": []
    },
    {
      "cell_type": "markdown",
      "source": [
        "Hallo tekst"
      ],
      "metadata": {
        "id": "Sw0PgQvOoC2L"
      }
    },
    {
      "cell_type": "code",
      "source": [
        "# Blokje 3"
      ],
      "metadata": {
        "id": "eL6ue3Qwnh62"
      },
      "execution_count": null,
      "outputs": []
    },
    {
      "cell_type": "markdown",
      "source": [
        "## 4. Feature selection"
      ],
      "metadata": {
        "id": "UXm9Ps4sm-v-"
      }
    },
    {
      "cell_type": "markdown",
      "source": [
        "Hallo tekst"
      ],
      "metadata": {
        "id": "jWntzXM0oGlg"
      }
    },
    {
      "cell_type": "code",
      "source": [
        "# Blokje 1"
      ],
      "metadata": {
        "id": "rB8WQrT8nBlD"
      },
      "execution_count": null,
      "outputs": []
    },
    {
      "cell_type": "markdown",
      "source": [
        "Hallo tekst"
      ],
      "metadata": {
        "id": "7Fo3B9GtoHfW"
      }
    },
    {
      "cell_type": "code",
      "source": [
        "# Blokje 2"
      ],
      "metadata": {
        "id": "YS-1NeZunEfi"
      },
      "execution_count": null,
      "outputs": []
    },
    {
      "cell_type": "markdown",
      "source": [
        "Hallo tekst"
      ],
      "metadata": {
        "id": "DjUe1_wAoJpk"
      }
    },
    {
      "cell_type": "code",
      "source": [
        "# Blokje 3"
      ],
      "metadata": {
        "id": "a3_dsVkEoKto"
      },
      "execution_count": null,
      "outputs": []
    }
  ],
  "metadata": {
    "colab": {
      "name": "assignment.ipynb",
      "provenance": [],
      "include_colab_link": true
    },
    "kernelspec": {
      "display_name": "Python 3",
      "language": "python",
      "name": "python3"
    },
    "language_info": {
      "codemirror_mode": {
        "name": "ipython",
        "version": 3
      },
      "file_extension": ".py",
      "mimetype": "text/x-python",
      "name": "python",
      "nbconvert_exporter": "python",
      "pygments_lexer": "ipython3",
      "version": "3.8.5"
    }
  },
  "nbformat": 4,
  "nbformat_minor": 0
}
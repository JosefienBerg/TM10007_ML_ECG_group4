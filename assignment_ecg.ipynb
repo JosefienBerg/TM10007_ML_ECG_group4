{
  "cells": [
    {
      "cell_type": "markdown",
      "metadata": {
        "id": "7SXpaKwwGe5x"
      },
      "source": [
        "# TM10007 Assignment template -- ECG data"
      ]
    },
    {
      "cell_type": "markdown",
      "metadata": {
        "id": "5EG78VSHfhNi"
      },
      "source": [
        "## Data loading and cleaning\n",
        "\n",
        "Below are functions to load the dataset of your choice. After that, it is all up to you to create and evaluate a classification method. Beware, there may be missing values in these datasets. Good luck!"
      ]
    },
    {
      "cell_type": "code",
      "execution_count": 5,
      "metadata": {
        "id": "CiDn2Sk-VWqE",
        "outputId": "470da9fe-aa43-479e-a1d2-7d634ca6946d",
        "colab": {
          "base_uri": "https://localhost:8080/"
        }
      },
      "outputs": [
        {
          "output_type": "stream",
          "name": "stdout",
          "text": [
            "fatal: destination path 'TM10007_ML_ECG_group4' already exists and is not an empty directory.\n",
            "The number of samples: 827\n",
            "The number of columns: 9001\n"
          ]
        }
      ],
      "source": [
        "# Run this to use from colab environment\n",
        "!git clone https://github.com/JosefienBerg/TM10007_ML_ECG_group4.git\n",
        "\n",
        "import zipfile\n",
        "import os\n",
        "import pandas as pd\n",
        "\n",
        "with zipfile.ZipFile('/content/TM10007_ML_ECG_group4/ecg/ecg_data.zip', 'r') as zip_ref:\n",
        "    zip_ref.extractall('/content/TM10007_ML_ECG_group4/ecg')\n",
        "\n",
        "data = pd.read_csv('/content/TM10007_ML_ECG_group4/ecg/ecg_data.csv', index_col=0)\n",
        "\n",
        "print(f'The number of samples: {len(data.index)}')\n",
        "print(f'The number of columns: {len(data.columns)}')"
      ]
    },
    {
      "cell_type": "code",
      "source": [
        "# This piece of code prints the dataframe data\n",
        "print(data)"
      ],
      "metadata": {
        "id": "V25Z67Pf5SPD",
        "outputId": "6211b00d-38d2-4b6f-9592-e82cac725d31",
        "colab": {
          "base_uri": "https://localhost:8080/"
        }
      },
      "execution_count": 4,
      "outputs": [
        {
          "output_type": "stream",
          "name": "stdout",
          "text": [
            "            0_0         0_1         0_2        0_3        0_4         0_5  \\\n",
            "0     47.685046   48.416904   37.371002  61.604757  58.732738  213.067966   \n",
            "1    152.726718  297.353726  111.168880  25.419423  14.636085   24.609688   \n",
            "2      1.601260    3.882169   22.978997  21.673040   8.919484   18.329286   \n",
            "3      1.388947    3.052483    3.084103   4.627886  10.016196   15.020347   \n",
            "4      3.625561    3.728466    6.205367  17.722897   5.699401    9.024836   \n",
            "..          ...         ...         ...        ...        ...         ...   \n",
            "822   14.673713   13.879148   10.000083   8.337630   3.557302    8.910661   \n",
            "823    3.167367   13.771749    0.705951   0.349087   9.596407   14.721906   \n",
            "824    0.439357    8.700374   20.628752  19.379063  23.176646   25.308323   \n",
            "825    0.235515    4.074581    9.381945   9.621589  16.106126    8.376319   \n",
            "826    0.301328    2.012000    9.122957   7.332689   7.862709   10.139178   \n",
            "\n",
            "            0_6         0_7         0_8         0_9  ...    11_741    11_742  \\\n",
            "0    120.890451   40.100639   19.106303    6.043738  ...  0.078753  0.379885   \n",
            "1     49.533842  253.651571  483.852043  167.617409  ...  0.804160  0.809705   \n",
            "2     27.710604   23.350084   37.896254    8.331180  ...  0.156080  0.102070   \n",
            "3    139.823127   20.149108   10.393109    9.241921  ...  0.238274  0.096733   \n",
            "4     15.782812   33.336480   55.257804   19.139128  ...  0.056914  0.059116   \n",
            "..          ...         ...         ...         ...  ...       ...       ...   \n",
            "822   36.647388    5.127375    4.974610    3.649282  ...  0.024548  0.056174   \n",
            "823   48.008495  100.760159   33.764106   19.399167  ...  0.808183  0.728553   \n",
            "824  124.150929   37.162548   13.807592   14.244157  ...  0.103234  0.113550   \n",
            "825   42.678977   40.056677   17.450689    8.489811  ...  0.150481  0.073634   \n",
            "826    8.211888   98.975305    7.404045   12.253549  ...  0.189871  0.085630   \n",
            "\n",
            "       11_743    11_744    11_745    11_746    11_747    11_748    11_749  \\\n",
            "0    0.182930  0.231552  0.222432  0.154919  0.158616  0.269249  0.112248   \n",
            "1    0.830032  0.774368  0.798178  0.853519  0.827946  0.859936  0.742673   \n",
            "2    0.168276  0.120385  0.064254  0.077670  0.059857  0.098506  0.098288   \n",
            "3    0.030739  0.170214  0.052079  0.179360  0.226222  0.092000  0.192559   \n",
            "4    0.050098  0.152588  0.129712  0.047342  0.058446  0.141610  0.129477   \n",
            "..        ...       ...       ...       ...       ...       ...       ...   \n",
            "822  0.029438  0.169014  0.111257  0.058975  0.112644  0.155580  0.061931   \n",
            "823  0.743050  0.735316  0.724321  0.671816  0.714386  0.771741  0.757218   \n",
            "824  0.102557  0.131152  0.057736  0.061432  0.068036  0.159615  0.077114   \n",
            "825  0.104637  0.164451  0.055838  0.060012  0.057874  0.060548  0.116350   \n",
            "826  0.161162  0.141019  0.133023  0.073290  0.228413  0.114943  0.223285   \n",
            "\n",
            "     label  \n",
            "0        0  \n",
            "1        1  \n",
            "2        0  \n",
            "3        0  \n",
            "4        0  \n",
            "..     ...  \n",
            "822      0  \n",
            "823      0  \n",
            "824      0  \n",
            "825      0  \n",
            "826      1  \n",
            "\n",
            "[827 rows x 9001 columns]\n"
          ]
        }
      ]
    }
  ],
  "metadata": {
    "colab": {
      "name": "assignment.ipynb",
      "provenance": []
    },
    "kernelspec": {
      "display_name": "Python 3",
      "language": "python",
      "name": "python3"
    },
    "language_info": {
      "codemirror_mode": {
        "name": "ipython",
        "version": 3
      },
      "file_extension": ".py",
      "mimetype": "text/x-python",
      "name": "python",
      "nbconvert_exporter": "python",
      "pygments_lexer": "ipython3",
      "version": "3.8.5"
    }
  },
  "nbformat": 4,
  "nbformat_minor": 0
}